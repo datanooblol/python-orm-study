{
 "cells": [
  {
   "cell_type": "code",
   "execution_count": 1,
   "id": "dea8cbe9",
   "metadata": {},
   "outputs": [],
   "source": [
    "%load_ext autoreload\n",
    "%autoreload 2"
   ]
  },
  {
   "cell_type": "markdown",
   "id": "caab5f3f",
   "metadata": {},
   "source": [
    "# Initialize DB and Tables"
   ]
  },
  {
   "cell_type": "code",
   "execution_count": 2,
   "id": "79ba1e87",
   "metadata": {},
   "outputs": [],
   "source": [
    "from package.databases.initialize import init_db_and_tables\n",
    "\n",
    "init_db_and_tables()"
   ]
  },
  {
   "cell_type": "code",
   "execution_count": 3,
   "id": "1209363a",
   "metadata": {},
   "outputs": [],
   "source": [
    "from sqlmodel import Session, select, Text\n",
    "from package.databases.session import get_session, Depends\n",
    "from package.databases.models import User, Project"
   ]
  },
  {
   "cell_type": "markdown",
   "id": "bb1ca4d8",
   "metadata": {},
   "source": [
    "# CRUD"
   ]
  },
  {
   "cell_type": "markdown",
   "id": "a0ee36e8",
   "metadata": {},
   "source": [
    "## Create"
   ]
  },
  {
   "cell_type": "code",
   "execution_count": 4,
   "id": "3858ec73",
   "metadata": {},
   "outputs": [
    {
     "name": "stdout",
     "output_type": "stream",
     "text": [
      "email='bank.bank@bank.com' password='test' created_dt=datetime.datetime(2025, 6, 22, 17, 20, 42, 167265) username='bank' user_id=1 updated_dt=datetime.datetime(2025, 6, 22, 17, 20, 42, 167265)\n",
      "email='bonk.bonk@bank.com' password='test' created_dt=datetime.datetime(2025, 6, 22, 17, 20, 42, 167265) username='bonk' user_id=2 updated_dt=datetime.datetime(2025, 6, 22, 17, 20, 42, 167265)\n"
     ]
    }
   ],
   "source": [
    "def create_user(user:User, session: Session = Depends(get_session)):\n",
    "    session.add(user)\n",
    "    session.commit()\n",
    "    session.refresh(user)\n",
    "    session.close()\n",
    "    return user\n",
    "\n",
    "bank = User(username=\"bank\", password=\"test\", email=\"bank.bank@bank.com\")\n",
    "bonk = User(username=\"bonk\", password=\"test\", email=\"bonk.bonk@bank.com\")\n",
    "users = [bank, bonk]\n",
    "for user in users:\n",
    "    print(create_user(user=user))"
   ]
  },
  {
   "cell_type": "code",
   "execution_count": 5,
   "id": "62913f7f",
   "metadata": {},
   "outputs": [
    {
     "data": {
      "text/plain": [
       "[User(email='bank.bank@bank.com', password='test', created_dt=datetime.datetime(2025, 6, 22, 17, 20, 42, 167265), username='bank', user_id=1, updated_dt=datetime.datetime(2025, 6, 22, 17, 20, 42, 167265))]"
      ]
     },
     "execution_count": 5,
     "metadata": {},
     "output_type": "execute_result"
    }
   ],
   "source": [
    "def read_user(user_id: int, session=Depends(get_session)):\n",
    "    statement = select(User).where(User.user_id == user_id)\n",
    "    results = session.exec(statement).all()\n",
    "    session.close()\n",
    "    return results\n",
    "\n",
    "read_user(1)"
   ]
  },
  {
   "cell_type": "code",
   "execution_count": 6,
   "id": "fcddeb86",
   "metadata": {},
   "outputs": [
    {
     "data": {
      "text/plain": [
       "[User(email='bank.bank@bank.com', password='test', created_dt=datetime.datetime(2025, 6, 22, 17, 20, 42, 167265), username='bank', user_id=1, updated_dt=datetime.datetime(2025, 6, 22, 17, 20, 42, 167265)),\n",
       " User(email='bonk.bonk@bank.com', password='test', created_dt=datetime.datetime(2025, 6, 22, 17, 20, 42, 167265), username='bonk', user_id=2, updated_dt=datetime.datetime(2025, 6, 22, 17, 20, 42, 167265))]"
      ]
     },
     "execution_count": 6,
     "metadata": {},
     "output_type": "execute_result"
    }
   ],
   "source": [
    "def read_users(session=Depends(get_session)):\n",
    "    statement = select(User)\n",
    "    results = session.exec(statement).all()\n",
    "    session.close()\n",
    "    return results\n",
    "\n",
    "read_users()"
   ]
  },
  {
   "cell_type": "markdown",
   "id": "c6dc45bd",
   "metadata": {},
   "source": [
    "## Update"
   ]
  },
  {
   "cell_type": "code",
   "execution_count": 7,
   "id": "1a695395",
   "metadata": {},
   "outputs": [
    {
     "data": {
      "text/plain": [
       "User(email='bankbank@bank.com', password='test', created_dt=datetime.datetime(2025, 6, 22, 17, 20, 42, 167265), username='bank', user_id=1, updated_dt=datetime.datetime(2025, 6, 22, 17, 20, 42, 992674))"
      ]
     },
     "execution_count": 7,
     "metadata": {},
     "output_type": "execute_result"
    }
   ],
   "source": [
    "from datetime import datetime, timezone\n",
    "\n",
    "def update_user_email(user_id: int, new_email: str, session: Session = Depends(get_session)):\n",
    "    user = session.get(User, user_id)\n",
    "    if user:\n",
    "        user.email = new_email\n",
    "        user.updated_dt = datetime.now(timezone.utc)  # ✅ update timestamp\n",
    "        session.add(user)\n",
    "        session.commit()\n",
    "        session.refresh(user)\n",
    "        session.close()\n",
    "    return user\n",
    "\n",
    "update_user_email(user_id=1, new_email=\"bankbank@bank.com\")"
   ]
  },
  {
   "cell_type": "code",
   "execution_count": 8,
   "id": "db1cf5c8",
   "metadata": {},
   "outputs": [
    {
     "data": {
      "text/plain": [
       "Project(owner_id=1, project_name='Project 2', updated_dt=datetime.datetime(2025, 6, 22, 17, 20, 43, 208711), project_id=2, created_dt=datetime.datetime(2025, 6, 22, 17, 20, 43, 208711))"
      ]
     },
     "execution_count": 8,
     "metadata": {},
     "output_type": "execute_result"
    }
   ],
   "source": [
    "def create_project(project: Project, session: Session = Depends(get_session)):\n",
    "    session.add(project)\n",
    "    session.commit()\n",
    "    session.refresh(project)\n",
    "    session.close()\n",
    "    return project\n",
    "\n",
    "project1 = Project(\n",
    "    project_name=\"Project 1\",\n",
    "    owner_id=1\n",
    ")\n",
    "\n",
    "project2 = Project(\n",
    "    project_name=\"Project 2\",\n",
    "    owner_id=1\n",
    ")\n",
    "create_project(project1)\n",
    "create_project(project2)"
   ]
  },
  {
   "cell_type": "code",
   "execution_count": 9,
   "id": "7c9b6778",
   "metadata": {},
   "outputs": [
    {
     "data": {
      "text/plain": [
       "Project(owner_id=2, project_name='Project 1', updated_dt=datetime.datetime(2025, 6, 22, 17, 20, 43, 435574), project_id=3, created_dt=datetime.datetime(2025, 6, 22, 17, 20, 43, 435574))"
      ]
     },
     "execution_count": 9,
     "metadata": {},
     "output_type": "execute_result"
    }
   ],
   "source": [
    "project = Project(\n",
    "    project_name=\"Project 1\",\n",
    "    owner_id=2\n",
    ")\n",
    "\n",
    "create_project(project)"
   ]
  },
  {
   "cell_type": "code",
   "execution_count": 10,
   "id": "066b5356",
   "metadata": {},
   "outputs": [
    {
     "data": {
      "text/plain": [
       "Project(owner_id=1, project_name='Project 1', updated_dt=datetime.datetime(2025, 6, 22, 17, 20, 43, 208711), project_id=1, created_dt=datetime.datetime(2025, 6, 22, 17, 20, 43, 208711))"
      ]
     },
     "execution_count": 10,
     "metadata": {},
     "output_type": "execute_result"
    }
   ],
   "source": [
    "def read_project(project_id:int, session:Session=Depends(get_session)):\n",
    "    project = session.get(Project, project_id)\n",
    "    session.close()\n",
    "    return project\n",
    "\n",
    "def read_projects(session:Session=Depends(get_session)):\n",
    "    statement = select(Project)\n",
    "    results = session.exec(statement).all()\n",
    "    session.close()\n",
    "    return results\n",
    "\n",
    "\n",
    "read_project(project_id=1)"
   ]
  },
  {
   "cell_type": "code",
   "execution_count": 11,
   "id": "fc68396a",
   "metadata": {},
   "outputs": [
    {
     "data": {
      "text/plain": [
       "Project(owner_id=1, project_name='Project 2', updated_dt=datetime.datetime(2025, 6, 22, 17, 20, 43, 208711), project_id=2, created_dt=datetime.datetime(2025, 6, 22, 17, 20, 43, 208711))"
      ]
     },
     "execution_count": 11,
     "metadata": {},
     "output_type": "execute_result"
    }
   ],
   "source": [
    "read_project(project_id=2)"
   ]
  },
  {
   "cell_type": "code",
   "execution_count": 12,
   "id": "d015efdc",
   "metadata": {},
   "outputs": [
    {
     "data": {
      "text/plain": [
       "[Project(owner_id=1, project_name='Project 1', updated_dt=datetime.datetime(2025, 6, 22, 17, 20, 43, 208711), project_id=1, created_dt=datetime.datetime(2025, 6, 22, 17, 20, 43, 208711)),\n",
       " Project(owner_id=1, project_name='Project 2', updated_dt=datetime.datetime(2025, 6, 22, 17, 20, 43, 208711), project_id=2, created_dt=datetime.datetime(2025, 6, 22, 17, 20, 43, 208711)),\n",
       " Project(owner_id=2, project_name='Project 1', updated_dt=datetime.datetime(2025, 6, 22, 17, 20, 43, 435574), project_id=3, created_dt=datetime.datetime(2025, 6, 22, 17, 20, 43, 435574))]"
      ]
     },
     "execution_count": 12,
     "metadata": {},
     "output_type": "execute_result"
    }
   ],
   "source": [
    "read_projects()"
   ]
  },
  {
   "cell_type": "code",
   "execution_count": 13,
   "id": "2c0c1036",
   "metadata": {},
   "outputs": [
    {
     "data": {
      "text/plain": [
       "[Project(owner_id=1, project_name='Project 1', updated_dt=datetime.datetime(2025, 6, 22, 17, 20, 43, 208711), project_id=1, created_dt=datetime.datetime(2025, 6, 22, 17, 20, 43, 208711)),\n",
       " Project(owner_id=1, project_name='Project 2', updated_dt=datetime.datetime(2025, 6, 22, 17, 20, 43, 208711), project_id=2, created_dt=datetime.datetime(2025, 6, 22, 17, 20, 43, 208711))]"
      ]
     },
     "execution_count": 13,
     "metadata": {},
     "output_type": "execute_result"
    }
   ],
   "source": [
    "def read_projects_by_user_id(user_id:int, session:Session=Depends(get_session)):\n",
    "    user = session.get(User, user_id)\n",
    "    projects = user.projects\n",
    "    session.close()\n",
    "    return projects\n",
    "\n",
    "read_projects_by_user_id(user_id=1)"
   ]
  },
  {
   "cell_type": "code",
   "execution_count": 14,
   "id": "5b01539a",
   "metadata": {},
   "outputs": [
    {
     "data": {
      "text/plain": [
       "[Project(owner_id=2, project_name='Project 1', updated_dt=datetime.datetime(2025, 6, 22, 17, 20, 43, 435574), project_id=3, created_dt=datetime.datetime(2025, 6, 22, 17, 20, 43, 435574))]"
      ]
     },
     "execution_count": 14,
     "metadata": {},
     "output_type": "execute_result"
    }
   ],
   "source": [
    "read_projects_by_user_id(user_id=2)"
   ]
  },
  {
   "cell_type": "code",
   "execution_count": 15,
   "id": "a74a59fe",
   "metadata": {},
   "outputs": [
    {
     "data": {
      "text/plain": [
       "User(email='bankbank@bank.com', password='test', created_dt=datetime.datetime(2025, 6, 22, 17, 20, 42, 167265), username='bank', user_id=1, updated_dt=datetime.datetime(2025, 6, 22, 17, 20, 42, 992674))"
      ]
     },
     "execution_count": 15,
     "metadata": {},
     "output_type": "execute_result"
    }
   ],
   "source": [
    "def read_user_by_project(project_id:int, session:Session=Depends(get_session)):\n",
    "    project = session.get(Project, project_id)\n",
    "    owner = project.owner\n",
    "    session.close()\n",
    "    return owner\n",
    "\n",
    "read_user_by_project(project_id=1)"
   ]
  },
  {
   "cell_type": "code",
   "execution_count": 16,
   "id": "fc1d4090",
   "metadata": {},
   "outputs": [
    {
     "data": {
      "text/plain": [
       "User(email='bonk.bonk@bank.com', password='test', created_dt=datetime.datetime(2025, 6, 22, 17, 20, 42, 167265), username='bonk', user_id=2, updated_dt=datetime.datetime(2025, 6, 22, 17, 20, 42, 167265))"
      ]
     },
     "execution_count": 16,
     "metadata": {},
     "output_type": "execute_result"
    }
   ],
   "source": [
    "read_user_by_project(project_id=3)"
   ]
  },
  {
   "cell_type": "code",
   "execution_count": 17,
   "id": "fa9bfb9f",
   "metadata": {},
   "outputs": [
    {
     "data": {
      "text/plain": [
       "LongTerm(context='context 2', embedding=array([0., 0., 0.], dtype=float32), id=2, meta={'source': 'b', 'sequence': 2})"
      ]
     },
     "execution_count": 17,
     "metadata": {},
     "output_type": "execute_result"
    }
   ],
   "source": [
    "from package.databases.models.longterm import LongTerm\n",
    "\n",
    "def create_longterm(context:LongTerm, session:Session=Depends(get_session)):\n",
    "    session.add(context)\n",
    "    session.commit()\n",
    "    session.refresh(context)\n",
    "    session.close()\n",
    "    return context\n",
    "\n",
    "context1 = LongTerm(\n",
    "    context=\"context 1\",\n",
    "    embedding=[0.5,0.5,0.5],\n",
    "    meta={\"source\": \"a\", \"sequence\": 1}\n",
    ")\n",
    "\n",
    "context2 = LongTerm(\n",
    "    context=\"context 2\",\n",
    "    embedding=[0.0, 0.0, 0.0],\n",
    "    meta={\"source\": \"b\", \"sequence\": 2}\n",
    ")\n",
    "\n",
    "create_longterm(context1)\n",
    "create_longterm(context2)"
   ]
  },
  {
   "cell_type": "code",
   "execution_count": 18,
   "id": "b9ec3c7b",
   "metadata": {},
   "outputs": [
    {
     "data": {
      "text/plain": [
       "LongTerm(context='context 1', embedding=array([0.5, 0.5, 0.5], dtype=float32), id=1, meta={'source': 'a', 'sequence': 1})"
      ]
     },
     "execution_count": 18,
     "metadata": {},
     "output_type": "execute_result"
    }
   ],
   "source": [
    "def read_longterm(id:int, session:Session=Depends(get_session)):\n",
    "    longterm = session.get(LongTerm, id)\n",
    "    session.close()\n",
    "    return longterm\n",
    "\n",
    "read_longterm(id=1)"
   ]
  },
  {
   "cell_type": "code",
   "execution_count": 19,
   "id": "665d7698",
   "metadata": {},
   "outputs": [
    {
     "data": {
      "text/plain": [
       "LongTerm(context='context 2', embedding=array([0., 0., 0.], dtype=float32), id=2, meta={'source': 'b', 'sequence': 2})"
      ]
     },
     "execution_count": 19,
     "metadata": {},
     "output_type": "execute_result"
    }
   ],
   "source": [
    "read_longterm(id=2)"
   ]
  },
  {
   "cell_type": "code",
   "execution_count": 22,
   "id": "ae12faaf",
   "metadata": {},
   "outputs": [
    {
     "data": {
      "text/plain": [
       "[LongTerm(context='context 2', embedding=array([0., 0., 0.], dtype=float32), id=2, meta={'source': 'b', 'sequence': 2}),\n",
       " LongTerm(context='context 1', embedding=array([0.5, 0.5, 0.5], dtype=float32), id=1, meta={'source': 'a', 'sequence': 1})]"
      ]
     },
     "execution_count": 22,
     "metadata": {},
     "output_type": "execute_result"
    }
   ],
   "source": [
    "def read_similar_longterm(vector:list[float], limit:int=1, session:Session=Depends(get_session)):\n",
    "    statement = select(LongTerm).order_by(LongTerm.embedding.l2_distance(vector)).limit(limit)\n",
    "    results = session.exec(statement).all()\n",
    "    session.close()\n",
    "    return results\n",
    "\n",
    "read_similar_longterm(vector=[0,0,0], limit=2)"
   ]
  },
  {
   "cell_type": "code",
   "execution_count": 23,
   "id": "12466969",
   "metadata": {},
   "outputs": [
    {
     "data": {
      "text/plain": [
       "[LongTerm(context='context 1', embedding=array([0.5, 0.5, 0.5], dtype=float32), id=1, meta={'source': 'a', 'sequence': 1}),\n",
       " LongTerm(context='context 2', embedding=array([0., 0., 0.], dtype=float32), id=2, meta={'source': 'b', 'sequence': 2})]"
      ]
     },
     "execution_count": 23,
     "metadata": {},
     "output_type": "execute_result"
    }
   ],
   "source": [
    "read_similar_longterm(vector=[0.5,0.5,0.5], limit=2)"
   ]
  },
  {
   "cell_type": "code",
   "execution_count": 29,
   "id": "84b38af8",
   "metadata": {},
   "outputs": [
    {
     "data": {
      "text/plain": [
       "[LongTerm(context='context 2', embedding=array([0., 0., 0.], dtype=float32), id=2, meta={'source': 'b', 'sequence': 2})]"
      ]
     },
     "execution_count": 29,
     "metadata": {},
     "output_type": "execute_result"
    }
   ],
   "source": [
    "from sqlmodel import text\n",
    "import json\n",
    "\n",
    "def filter_longterm(params:dict, session:Session=Depends(get_session)):\n",
    "    statement = select(LongTerm).where(\n",
    "        text(\"meta @> :jsonb_filter\")\n",
    "    ).params(jsonb_filter=json.dumps(params))\n",
    "    results = session.exec(statement).all()\n",
    "    session.close()\n",
    "    return results\n",
    "\n",
    "filter_longterm(params={\"source\": \"b\"})"
   ]
  },
  {
   "cell_type": "code",
   "execution_count": null,
   "id": "50694538",
   "metadata": {},
   "outputs": [
    {
     "data": {
      "text/plain": [
       "[LongTerm(context='context 1', embedding=array([0.5, 0.5, 0.5], dtype=float32), id=1, meta={'source': 'a', 'sequence': 1})]"
      ]
     },
     "execution_count": 45,
     "metadata": {},
     "output_type": "execute_result"
    }
   ],
   "source": [
    "from sqlmodel import text\n",
    "\n",
    "def read_longterm(vector:list[float], limit:int=5, sources:list[str]=None, session:Session=Depends(get_session)):\n",
    "    statement = select(LongTerm)\n",
    "    if sources:\n",
    "        statement=statement.where(text(\"meta ->> 'source' = ANY(:sources)\"))\n",
    "    statement = statement.order_by(LongTerm.embedding.l2_distance(vector)).limit(limit).params(sources=sources)\n",
    "    results = session.exec(statement).all()\n",
    "    session.close()\n",
    "    return results\n",
    "\n",
    "read_longterm(\n",
    "    vector=[0,0,0],\n",
    "    sources=[\"a\"]\n",
    ")"
   ]
  },
  {
   "cell_type": "markdown",
   "id": "fc15ce51",
   "metadata": {},
   "source": [
    "## Delete"
   ]
  },
  {
   "cell_type": "code",
   "execution_count": 39,
   "id": "f6b53861",
   "metadata": {},
   "outputs": [
    {
     "data": {
      "text/plain": [
       "True"
      ]
     },
     "execution_count": 39,
     "metadata": {},
     "output_type": "execute_result"
    }
   ],
   "source": [
    "def delete_user(user_id: int, session: Session = Depends(get_session)):\n",
    "    user = session.get(User, user_id)\n",
    "    if user:\n",
    "        session.delete(user)\n",
    "        session.commit()\n",
    "        session.close()\n",
    "        return True\n",
    "    return False\n",
    "\n",
    "delete_user(user_id=1)\n"
   ]
  },
  {
   "cell_type": "code",
   "execution_count": 40,
   "id": "7e38c6fc",
   "metadata": {},
   "outputs": [
    {
     "data": {
      "text/plain": [
       "[User(username='bonk', user_id=2, updated_dt=datetime.datetime(2025, 6, 22, 17, 5, 22, 935684), password='test', email='bonk.bonk@bank.com', created_dt=datetime.datetime(2025, 6, 22, 17, 5, 22, 935684))]"
      ]
     },
     "execution_count": 40,
     "metadata": {},
     "output_type": "execute_result"
    }
   ],
   "source": [
    "read_users()"
   ]
  },
  {
   "cell_type": "code",
   "execution_count": 41,
   "id": "b2edc283",
   "metadata": {},
   "outputs": [
    {
     "data": {
      "text/plain": [
       "[Project(created_dt=datetime.datetime(2025, 6, 22, 17, 5, 26, 629407), project_id=3, owner_id=2, project_name='Project 1', updated_dt=datetime.datetime(2025, 6, 22, 17, 5, 26, 629407))]"
      ]
     },
     "execution_count": 41,
     "metadata": {},
     "output_type": "execute_result"
    }
   ],
   "source": [
    "read_projects()"
   ]
  },
  {
   "cell_type": "markdown",
   "id": "14dd098e",
   "metadata": {},
   "source": [
    "# Drop the selected table"
   ]
  },
  {
   "cell_type": "code",
   "execution_count": null,
   "id": "22e60438",
   "metadata": {},
   "outputs": [
    {
     "name": "stdout",
     "output_type": "stream",
     "text": [
      "✅ Dropped 'user' table.\n"
     ]
    }
   ],
   "source": [
    "from package.databases.drop import drop_table\n",
    "# if there's relationship between two tables, it breaks\n",
    "# drop_table(User)"
   ]
  },
  {
   "cell_type": "markdown",
   "id": "d12cc691",
   "metadata": {},
   "source": [
    "# Drop all tables"
   ]
  },
  {
   "cell_type": "code",
   "execution_count": 1,
   "id": "7f1d50fe",
   "metadata": {},
   "outputs": [
    {
     "name": "stdout",
     "output_type": "stream",
     "text": [
      "✅ All tables dropped.\n"
     ]
    }
   ],
   "source": [
    "from package.databases.drop import drop_all_tables\n",
    "\n",
    "drop_all_tables()"
   ]
  },
  {
   "cell_type": "code",
   "execution_count": null,
   "id": "4d566082",
   "metadata": {},
   "outputs": [],
   "source": []
  }
 ],
 "metadata": {
  "kernelspec": {
   "display_name": "python-orm-study",
   "language": "python",
   "name": "python3"
  },
  "language_info": {
   "codemirror_mode": {
    "name": "ipython",
    "version": 3
   },
   "file_extension": ".py",
   "mimetype": "text/x-python",
   "name": "python",
   "nbconvert_exporter": "python",
   "pygments_lexer": "ipython3",
   "version": "3.11.11"
  }
 },
 "nbformat": 4,
 "nbformat_minor": 5
}

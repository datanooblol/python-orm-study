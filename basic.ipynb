{
 "cells": [
  {
   "cell_type": "code",
   "execution_count": 1,
   "id": "dea8cbe9",
   "metadata": {},
   "outputs": [],
   "source": [
    "%load_ext autoreload\n",
    "%autoreload 2"
   ]
  },
  {
   "cell_type": "markdown",
   "id": "caab5f3f",
   "metadata": {},
   "source": [
    "# Initialize DB and Tables"
   ]
  },
  {
   "cell_type": "code",
   "execution_count": 2,
   "id": "79ba1e87",
   "metadata": {},
   "outputs": [],
   "source": [
    "from package.databases.initialize import init_db_and_tables\n",
    "\n",
    "init_db_and_tables()"
   ]
  },
  {
   "cell_type": "code",
   "execution_count": 3,
   "id": "1209363a",
   "metadata": {},
   "outputs": [],
   "source": [
    "from sqlmodel import Session, select, Text\n",
    "from package.databases.session import get_session, Depends\n",
    "from package.databases.models import User, Project"
   ]
  },
  {
   "cell_type": "markdown",
   "id": "bb1ca4d8",
   "metadata": {},
   "source": [
    "# CRUD"
   ]
  },
  {
   "cell_type": "markdown",
   "id": "a0ee36e8",
   "metadata": {},
   "source": [
    "## Create"
   ]
  },
  {
   "cell_type": "code",
   "execution_count": 4,
   "id": "3858ec73",
   "metadata": {},
   "outputs": [
    {
     "ename": "IntegrityError",
     "evalue": "(psycopg2.errors.UniqueViolation) duplicate key value violates unique constraint \"ix_user_username\"\nDETAIL:  Key (username)=(bank) already exists.\n\n[SQL: INSERT INTO \"user\" (username, password, email, created_dt, updated_dt) VALUES (%(username)s, %(password)s, %(email)s, %(created_dt)s, %(updated_dt)s) RETURNING \"user\".user_id]\n[parameters: {'username': 'bank', 'password': 'test', 'email': 'bank.bank@bank.com', 'created_dt': datetime.datetime(2025, 6, 27, 17, 29, 12, 811405, tzinfo=datetime.timezone.utc), 'updated_dt': datetime.datetime(2025, 6, 27, 17, 29, 12, 811405, tzinfo=datetime.timezone.utc)}]\n(Background on this error at: https://sqlalche.me/e/20/gkpj)",
     "output_type": "error",
     "traceback": [
      "\u001b[31m---------------------------------------------------------------------------\u001b[39m",
      "\u001b[31mUniqueViolation\u001b[39m                           Traceback (most recent call last)",
      "\u001b[36mFile \u001b[39m\u001b[32md:\\python-orm-study\\.venv\\Lib\\site-packages\\sqlalchemy\\engine\\base.py:1963\u001b[39m, in \u001b[36mConnection._exec_single_context\u001b[39m\u001b[34m(self, dialect, context, statement, parameters)\u001b[39m\n\u001b[32m   1962\u001b[39m     \u001b[38;5;28;01mif\u001b[39;00m \u001b[38;5;129;01mnot\u001b[39;00m evt_handled:\n\u001b[32m-> \u001b[39m\u001b[32m1963\u001b[39m         \u001b[38;5;28;43mself\u001b[39;49m\u001b[43m.\u001b[49m\u001b[43mdialect\u001b[49m\u001b[43m.\u001b[49m\u001b[43mdo_execute\u001b[49m\u001b[43m(\u001b[49m\n\u001b[32m   1964\u001b[39m \u001b[43m            \u001b[49m\u001b[43mcursor\u001b[49m\u001b[43m,\u001b[49m\u001b[43m \u001b[49m\u001b[43mstr_statement\u001b[49m\u001b[43m,\u001b[49m\u001b[43m \u001b[49m\u001b[43meffective_parameters\u001b[49m\u001b[43m,\u001b[49m\u001b[43m \u001b[49m\u001b[43mcontext\u001b[49m\n\u001b[32m   1965\u001b[39m \u001b[43m        \u001b[49m\u001b[43m)\u001b[49m\n\u001b[32m   1967\u001b[39m \u001b[38;5;28;01mif\u001b[39;00m \u001b[38;5;28mself\u001b[39m._has_events \u001b[38;5;129;01mor\u001b[39;00m \u001b[38;5;28mself\u001b[39m.engine._has_events:\n",
      "\u001b[36mFile \u001b[39m\u001b[32md:\\python-orm-study\\.venv\\Lib\\site-packages\\sqlalchemy\\engine\\default.py:943\u001b[39m, in \u001b[36mDefaultDialect.do_execute\u001b[39m\u001b[34m(self, cursor, statement, parameters, context)\u001b[39m\n\u001b[32m    942\u001b[39m \u001b[38;5;28;01mdef\u001b[39;00m\u001b[38;5;250m \u001b[39m\u001b[34mdo_execute\u001b[39m(\u001b[38;5;28mself\u001b[39m, cursor, statement, parameters, context=\u001b[38;5;28;01mNone\u001b[39;00m):\n\u001b[32m--> \u001b[39m\u001b[32m943\u001b[39m     \u001b[43mcursor\u001b[49m\u001b[43m.\u001b[49m\u001b[43mexecute\u001b[49m\u001b[43m(\u001b[49m\u001b[43mstatement\u001b[49m\u001b[43m,\u001b[49m\u001b[43m \u001b[49m\u001b[43mparameters\u001b[49m\u001b[43m)\u001b[49m\n",
      "\u001b[31mUniqueViolation\u001b[39m: duplicate key value violates unique constraint \"ix_user_username\"\nDETAIL:  Key (username)=(bank) already exists.\n",
      "\nThe above exception was the direct cause of the following exception:\n",
      "\u001b[31mIntegrityError\u001b[39m                            Traceback (most recent call last)",
      "\u001b[36mCell\u001b[39m\u001b[36m \u001b[39m\u001b[32mIn[4]\u001b[39m\u001b[32m, line 12\u001b[39m\n\u001b[32m     10\u001b[39m users = [bank, bonk]\n\u001b[32m     11\u001b[39m \u001b[38;5;28;01mfor\u001b[39;00m user \u001b[38;5;129;01min\u001b[39;00m users:\n\u001b[32m---> \u001b[39m\u001b[32m12\u001b[39m     \u001b[38;5;28mprint\u001b[39m(\u001b[43mcreate_user\u001b[49m\u001b[43m(\u001b[49m\u001b[43muser\u001b[49m\u001b[43m=\u001b[49m\u001b[43muser\u001b[49m\u001b[43m)\u001b[49m)\n",
      "\u001b[36mCell\u001b[39m\u001b[36m \u001b[39m\u001b[32mIn[4]\u001b[39m\u001b[32m, line 3\u001b[39m, in \u001b[36mcreate_user\u001b[39m\u001b[34m(user, session)\u001b[39m\n\u001b[32m      1\u001b[39m \u001b[38;5;28;01mdef\u001b[39;00m\u001b[38;5;250m \u001b[39m\u001b[34mcreate_user\u001b[39m(user:User, session: Session = Depends(get_session)):\n\u001b[32m      2\u001b[39m     session.add(user)\n\u001b[32m----> \u001b[39m\u001b[32m3\u001b[39m     \u001b[43msession\u001b[49m\u001b[43m.\u001b[49m\u001b[43mcommit\u001b[49m\u001b[43m(\u001b[49m\u001b[43m)\u001b[49m\n\u001b[32m      4\u001b[39m     session.refresh(user)\n\u001b[32m      5\u001b[39m     session.close()\n",
      "\u001b[36mFile \u001b[39m\u001b[32md:\\python-orm-study\\.venv\\Lib\\site-packages\\sqlalchemy\\orm\\session.py:2032\u001b[39m, in \u001b[36mSession.commit\u001b[39m\u001b[34m(self)\u001b[39m\n\u001b[32m   2029\u001b[39m \u001b[38;5;28;01mif\u001b[39;00m trans \u001b[38;5;129;01mis\u001b[39;00m \u001b[38;5;28;01mNone\u001b[39;00m:\n\u001b[32m   2030\u001b[39m     trans = \u001b[38;5;28mself\u001b[39m._autobegin_t()\n\u001b[32m-> \u001b[39m\u001b[32m2032\u001b[39m \u001b[43mtrans\u001b[49m\u001b[43m.\u001b[49m\u001b[43mcommit\u001b[49m\u001b[43m(\u001b[49m\u001b[43m_to_root\u001b[49m\u001b[43m=\u001b[49m\u001b[38;5;28;43;01mTrue\u001b[39;49;00m\u001b[43m)\u001b[49m\n",
      "\u001b[36mFile \u001b[39m\u001b[32m<string>:2\u001b[39m, in \u001b[36mcommit\u001b[39m\u001b[34m(self, _to_root)\u001b[39m\n",
      "\u001b[36mFile \u001b[39m\u001b[32md:\\python-orm-study\\.venv\\Lib\\site-packages\\sqlalchemy\\orm\\state_changes.py:139\u001b[39m, in \u001b[36m_StateChange.declare_states.<locals>._go\u001b[39m\u001b[34m(fn, self, *arg, **kw)\u001b[39m\n\u001b[32m    137\u001b[39m \u001b[38;5;28mself\u001b[39m._next_state = _StateChangeStates.CHANGE_IN_PROGRESS\n\u001b[32m    138\u001b[39m \u001b[38;5;28;01mtry\u001b[39;00m:\n\u001b[32m--> \u001b[39m\u001b[32m139\u001b[39m     ret_value = \u001b[43mfn\u001b[49m\u001b[43m(\u001b[49m\u001b[38;5;28;43mself\u001b[39;49m\u001b[43m,\u001b[49m\u001b[43m \u001b[49m\u001b[43m*\u001b[49m\u001b[43marg\u001b[49m\u001b[43m,\u001b[49m\u001b[43m \u001b[49m\u001b[43m*\u001b[49m\u001b[43m*\u001b[49m\u001b[43mkw\u001b[49m\u001b[43m)\u001b[49m\n\u001b[32m    140\u001b[39m \u001b[38;5;28;01mexcept\u001b[39;00m:\n\u001b[32m    141\u001b[39m     \u001b[38;5;28;01mraise\u001b[39;00m\n",
      "\u001b[36mFile \u001b[39m\u001b[32md:\\python-orm-study\\.venv\\Lib\\site-packages\\sqlalchemy\\orm\\session.py:1313\u001b[39m, in \u001b[36mSessionTransaction.commit\u001b[39m\u001b[34m(self, _to_root)\u001b[39m\n\u001b[32m   1311\u001b[39m \u001b[38;5;28;01mif\u001b[39;00m \u001b[38;5;28mself\u001b[39m._state \u001b[38;5;129;01mis\u001b[39;00m \u001b[38;5;129;01mnot\u001b[39;00m SessionTransactionState.PREPARED:\n\u001b[32m   1312\u001b[39m     \u001b[38;5;28;01mwith\u001b[39;00m \u001b[38;5;28mself\u001b[39m._expect_state(SessionTransactionState.PREPARED):\n\u001b[32m-> \u001b[39m\u001b[32m1313\u001b[39m         \u001b[38;5;28;43mself\u001b[39;49m\u001b[43m.\u001b[49m\u001b[43m_prepare_impl\u001b[49m\u001b[43m(\u001b[49m\u001b[43m)\u001b[49m\n\u001b[32m   1315\u001b[39m \u001b[38;5;28;01mif\u001b[39;00m \u001b[38;5;28mself\u001b[39m._parent \u001b[38;5;129;01mis\u001b[39;00m \u001b[38;5;28;01mNone\u001b[39;00m \u001b[38;5;129;01mor\u001b[39;00m \u001b[38;5;28mself\u001b[39m.nested:\n\u001b[32m   1316\u001b[39m     \u001b[38;5;28;01mfor\u001b[39;00m conn, trans, should_commit, autoclose \u001b[38;5;129;01min\u001b[39;00m \u001b[38;5;28mset\u001b[39m(\n\u001b[32m   1317\u001b[39m         \u001b[38;5;28mself\u001b[39m._connections.values()\n\u001b[32m   1318\u001b[39m     ):\n",
      "\u001b[36mFile \u001b[39m\u001b[32m<string>:2\u001b[39m, in \u001b[36m_prepare_impl\u001b[39m\u001b[34m(self)\u001b[39m\n",
      "\u001b[36mFile \u001b[39m\u001b[32md:\\python-orm-study\\.venv\\Lib\\site-packages\\sqlalchemy\\orm\\state_changes.py:139\u001b[39m, in \u001b[36m_StateChange.declare_states.<locals>._go\u001b[39m\u001b[34m(fn, self, *arg, **kw)\u001b[39m\n\u001b[32m    137\u001b[39m \u001b[38;5;28mself\u001b[39m._next_state = _StateChangeStates.CHANGE_IN_PROGRESS\n\u001b[32m    138\u001b[39m \u001b[38;5;28;01mtry\u001b[39;00m:\n\u001b[32m--> \u001b[39m\u001b[32m139\u001b[39m     ret_value = \u001b[43mfn\u001b[49m\u001b[43m(\u001b[49m\u001b[38;5;28;43mself\u001b[39;49m\u001b[43m,\u001b[49m\u001b[43m \u001b[49m\u001b[43m*\u001b[49m\u001b[43marg\u001b[49m\u001b[43m,\u001b[49m\u001b[43m \u001b[49m\u001b[43m*\u001b[49m\u001b[43m*\u001b[49m\u001b[43mkw\u001b[49m\u001b[43m)\u001b[49m\n\u001b[32m    140\u001b[39m \u001b[38;5;28;01mexcept\u001b[39;00m:\n\u001b[32m    141\u001b[39m     \u001b[38;5;28;01mraise\u001b[39;00m\n",
      "\u001b[36mFile \u001b[39m\u001b[32md:\\python-orm-study\\.venv\\Lib\\site-packages\\sqlalchemy\\orm\\session.py:1288\u001b[39m, in \u001b[36mSessionTransaction._prepare_impl\u001b[39m\u001b[34m(self)\u001b[39m\n\u001b[32m   1286\u001b[39m     \u001b[38;5;28;01mif\u001b[39;00m \u001b[38;5;28mself\u001b[39m.session._is_clean():\n\u001b[32m   1287\u001b[39m         \u001b[38;5;28;01mbreak\u001b[39;00m\n\u001b[32m-> \u001b[39m\u001b[32m1288\u001b[39m     \u001b[38;5;28;43mself\u001b[39;49m\u001b[43m.\u001b[49m\u001b[43msession\u001b[49m\u001b[43m.\u001b[49m\u001b[43mflush\u001b[49m\u001b[43m(\u001b[49m\u001b[43m)\u001b[49m\n\u001b[32m   1289\u001b[39m \u001b[38;5;28;01melse\u001b[39;00m:\n\u001b[32m   1290\u001b[39m     \u001b[38;5;28;01mraise\u001b[39;00m exc.FlushError(\n\u001b[32m   1291\u001b[39m         \u001b[33m\"\u001b[39m\u001b[33mOver 100 subsequent flushes have occurred within \u001b[39m\u001b[33m\"\u001b[39m\n\u001b[32m   1292\u001b[39m         \u001b[33m\"\u001b[39m\u001b[33msession.commit() - is an after_flush() hook \u001b[39m\u001b[33m\"\u001b[39m\n\u001b[32m   1293\u001b[39m         \u001b[33m\"\u001b[39m\u001b[33mcreating new objects?\u001b[39m\u001b[33m\"\u001b[39m\n\u001b[32m   1294\u001b[39m     )\n",
      "\u001b[36mFile \u001b[39m\u001b[32md:\\python-orm-study\\.venv\\Lib\\site-packages\\sqlalchemy\\orm\\session.py:4345\u001b[39m, in \u001b[36mSession.flush\u001b[39m\u001b[34m(self, objects)\u001b[39m\n\u001b[32m   4343\u001b[39m \u001b[38;5;28;01mtry\u001b[39;00m:\n\u001b[32m   4344\u001b[39m     \u001b[38;5;28mself\u001b[39m._flushing = \u001b[38;5;28;01mTrue\u001b[39;00m\n\u001b[32m-> \u001b[39m\u001b[32m4345\u001b[39m     \u001b[38;5;28;43mself\u001b[39;49m\u001b[43m.\u001b[49m\u001b[43m_flush\u001b[49m\u001b[43m(\u001b[49m\u001b[43mobjects\u001b[49m\u001b[43m)\u001b[49m\n\u001b[32m   4346\u001b[39m \u001b[38;5;28;01mfinally\u001b[39;00m:\n\u001b[32m   4347\u001b[39m     \u001b[38;5;28mself\u001b[39m._flushing = \u001b[38;5;28;01mFalse\u001b[39;00m\n",
      "\u001b[36mFile \u001b[39m\u001b[32md:\\python-orm-study\\.venv\\Lib\\site-packages\\sqlalchemy\\orm\\session.py:4480\u001b[39m, in \u001b[36mSession._flush\u001b[39m\u001b[34m(self, objects)\u001b[39m\n\u001b[32m   4477\u001b[39m     transaction.commit()\n\u001b[32m   4479\u001b[39m \u001b[38;5;28;01mexcept\u001b[39;00m:\n\u001b[32m-> \u001b[39m\u001b[32m4480\u001b[39m \u001b[43m    \u001b[49m\u001b[38;5;28;43;01mwith\u001b[39;49;00m\u001b[43m \u001b[49m\u001b[43mutil\u001b[49m\u001b[43m.\u001b[49m\u001b[43msafe_reraise\u001b[49m\u001b[43m(\u001b[49m\u001b[43m)\u001b[49m\u001b[43m:\u001b[49m\n\u001b[32m   4481\u001b[39m \u001b[43m        \u001b[49m\u001b[43mtransaction\u001b[49m\u001b[43m.\u001b[49m\u001b[43mrollback\u001b[49m\u001b[43m(\u001b[49m\u001b[43m_capture_exception\u001b[49m\u001b[43m=\u001b[49m\u001b[38;5;28;43;01mTrue\u001b[39;49;00m\u001b[43m)\u001b[49m\n",
      "\u001b[36mFile \u001b[39m\u001b[32md:\\python-orm-study\\.venv\\Lib\\site-packages\\sqlalchemy\\util\\langhelpers.py:224\u001b[39m, in \u001b[36msafe_reraise.__exit__\u001b[39m\u001b[34m(self, type_, value, traceback)\u001b[39m\n\u001b[32m    222\u001b[39m     \u001b[38;5;28;01massert\u001b[39;00m exc_value \u001b[38;5;129;01mis\u001b[39;00m \u001b[38;5;129;01mnot\u001b[39;00m \u001b[38;5;28;01mNone\u001b[39;00m\n\u001b[32m    223\u001b[39m     \u001b[38;5;28mself\u001b[39m._exc_info = \u001b[38;5;28;01mNone\u001b[39;00m  \u001b[38;5;66;03m# remove potential circular references\u001b[39;00m\n\u001b[32m--> \u001b[39m\u001b[32m224\u001b[39m     \u001b[38;5;28;01mraise\u001b[39;00m exc_value.with_traceback(exc_tb)\n\u001b[32m    225\u001b[39m \u001b[38;5;28;01melse\u001b[39;00m:\n\u001b[32m    226\u001b[39m     \u001b[38;5;28mself\u001b[39m._exc_info = \u001b[38;5;28;01mNone\u001b[39;00m  \u001b[38;5;66;03m# remove potential circular references\u001b[39;00m\n",
      "\u001b[36mFile \u001b[39m\u001b[32md:\\python-orm-study\\.venv\\Lib\\site-packages\\sqlalchemy\\orm\\session.py:4441\u001b[39m, in \u001b[36mSession._flush\u001b[39m\u001b[34m(self, objects)\u001b[39m\n\u001b[32m   4439\u001b[39m \u001b[38;5;28mself\u001b[39m._warn_on_events = \u001b[38;5;28;01mTrue\u001b[39;00m\n\u001b[32m   4440\u001b[39m \u001b[38;5;28;01mtry\u001b[39;00m:\n\u001b[32m-> \u001b[39m\u001b[32m4441\u001b[39m     \u001b[43mflush_context\u001b[49m\u001b[43m.\u001b[49m\u001b[43mexecute\u001b[49m\u001b[43m(\u001b[49m\u001b[43m)\u001b[49m\n\u001b[32m   4442\u001b[39m \u001b[38;5;28;01mfinally\u001b[39;00m:\n\u001b[32m   4443\u001b[39m     \u001b[38;5;28mself\u001b[39m._warn_on_events = \u001b[38;5;28;01mFalse\u001b[39;00m\n",
      "\u001b[36mFile \u001b[39m\u001b[32md:\\python-orm-study\\.venv\\Lib\\site-packages\\sqlalchemy\\orm\\unitofwork.py:466\u001b[39m, in \u001b[36mUOWTransaction.execute\u001b[39m\u001b[34m(self)\u001b[39m\n\u001b[32m    464\u001b[39m \u001b[38;5;28;01melse\u001b[39;00m:\n\u001b[32m    465\u001b[39m     \u001b[38;5;28;01mfor\u001b[39;00m rec \u001b[38;5;129;01min\u001b[39;00m topological.sort(\u001b[38;5;28mself\u001b[39m.dependencies, postsort_actions):\n\u001b[32m--> \u001b[39m\u001b[32m466\u001b[39m         \u001b[43mrec\u001b[49m\u001b[43m.\u001b[49m\u001b[43mexecute\u001b[49m\u001b[43m(\u001b[49m\u001b[38;5;28;43mself\u001b[39;49m\u001b[43m)\u001b[49m\n",
      "\u001b[36mFile \u001b[39m\u001b[32md:\\python-orm-study\\.venv\\Lib\\site-packages\\sqlalchemy\\orm\\unitofwork.py:642\u001b[39m, in \u001b[36mSaveUpdateAll.execute\u001b[39m\u001b[34m(self, uow)\u001b[39m\n\u001b[32m    640\u001b[39m \u001b[38;5;129m@util\u001b[39m.preload_module(\u001b[33m\"\u001b[39m\u001b[33msqlalchemy.orm.persistence\u001b[39m\u001b[33m\"\u001b[39m)\n\u001b[32m    641\u001b[39m \u001b[38;5;28;01mdef\u001b[39;00m\u001b[38;5;250m \u001b[39m\u001b[34mexecute\u001b[39m(\u001b[38;5;28mself\u001b[39m, uow):\n\u001b[32m--> \u001b[39m\u001b[32m642\u001b[39m     \u001b[43mutil\u001b[49m\u001b[43m.\u001b[49m\u001b[43mpreloaded\u001b[49m\u001b[43m.\u001b[49m\u001b[43morm_persistence\u001b[49m\u001b[43m.\u001b[49m\u001b[43msave_obj\u001b[49m\u001b[43m(\u001b[49m\n\u001b[32m    643\u001b[39m \u001b[43m        \u001b[49m\u001b[38;5;28;43mself\u001b[39;49m\u001b[43m.\u001b[49m\u001b[43mmapper\u001b[49m\u001b[43m,\u001b[49m\n\u001b[32m    644\u001b[39m \u001b[43m        \u001b[49m\u001b[43muow\u001b[49m\u001b[43m.\u001b[49m\u001b[43mstates_for_mapper_hierarchy\u001b[49m\u001b[43m(\u001b[49m\u001b[38;5;28;43mself\u001b[39;49m\u001b[43m.\u001b[49m\u001b[43mmapper\u001b[49m\u001b[43m,\u001b[49m\u001b[43m \u001b[49m\u001b[38;5;28;43;01mFalse\u001b[39;49;00m\u001b[43m,\u001b[49m\u001b[43m \u001b[49m\u001b[38;5;28;43;01mFalse\u001b[39;49;00m\u001b[43m)\u001b[49m\u001b[43m,\u001b[49m\n\u001b[32m    645\u001b[39m \u001b[43m        \u001b[49m\u001b[43muow\u001b[49m\u001b[43m,\u001b[49m\n\u001b[32m    646\u001b[39m \u001b[43m    \u001b[49m\u001b[43m)\u001b[49m\n",
      "\u001b[36mFile \u001b[39m\u001b[32md:\\python-orm-study\\.venv\\Lib\\site-packages\\sqlalchemy\\orm\\persistence.py:93\u001b[39m, in \u001b[36msave_obj\u001b[39m\u001b[34m(base_mapper, states, uowtransaction, single)\u001b[39m\n\u001b[32m     81\u001b[39m     update = _collect_update_commands(\n\u001b[32m     82\u001b[39m         uowtransaction, table, states_to_update\n\u001b[32m     83\u001b[39m     )\n\u001b[32m     85\u001b[39m     _emit_update_statements(\n\u001b[32m     86\u001b[39m         base_mapper,\n\u001b[32m     87\u001b[39m         uowtransaction,\n\u001b[32m   (...)\u001b[39m\u001b[32m     90\u001b[39m         update,\n\u001b[32m     91\u001b[39m     )\n\u001b[32m---> \u001b[39m\u001b[32m93\u001b[39m     \u001b[43m_emit_insert_statements\u001b[49m\u001b[43m(\u001b[49m\n\u001b[32m     94\u001b[39m \u001b[43m        \u001b[49m\u001b[43mbase_mapper\u001b[49m\u001b[43m,\u001b[49m\n\u001b[32m     95\u001b[39m \u001b[43m        \u001b[49m\u001b[43muowtransaction\u001b[49m\u001b[43m,\u001b[49m\n\u001b[32m     96\u001b[39m \u001b[43m        \u001b[49m\u001b[43mmapper\u001b[49m\u001b[43m,\u001b[49m\n\u001b[32m     97\u001b[39m \u001b[43m        \u001b[49m\u001b[43mtable\u001b[49m\u001b[43m,\u001b[49m\n\u001b[32m     98\u001b[39m \u001b[43m        \u001b[49m\u001b[43minsert\u001b[49m\u001b[43m,\u001b[49m\n\u001b[32m     99\u001b[39m \u001b[43m    \u001b[49m\u001b[43m)\u001b[49m\n\u001b[32m    101\u001b[39m _finalize_insert_update_commands(\n\u001b[32m    102\u001b[39m     base_mapper,\n\u001b[32m    103\u001b[39m     uowtransaction,\n\u001b[32m   (...)\u001b[39m\u001b[32m    119\u001b[39m     ),\n\u001b[32m    120\u001b[39m )\n",
      "\u001b[36mFile \u001b[39m\u001b[32md:\\python-orm-study\\.venv\\Lib\\site-packages\\sqlalchemy\\orm\\persistence.py:1233\u001b[39m, in \u001b[36m_emit_insert_statements\u001b[39m\u001b[34m(base_mapper, uowtransaction, mapper, table, insert, bookkeeping, use_orm_insert_stmt, execution_options)\u001b[39m\n\u001b[32m   1227\u001b[39m     result = connection.execute(\n\u001b[32m   1228\u001b[39m         statement.values(value_params),\n\u001b[32m   1229\u001b[39m         params,\n\u001b[32m   1230\u001b[39m         execution_options=execution_options,\n\u001b[32m   1231\u001b[39m     )\n\u001b[32m   1232\u001b[39m \u001b[38;5;28;01melse\u001b[39;00m:\n\u001b[32m-> \u001b[39m\u001b[32m1233\u001b[39m     result = \u001b[43mconnection\u001b[49m\u001b[43m.\u001b[49m\u001b[43mexecute\u001b[49m\u001b[43m(\u001b[49m\n\u001b[32m   1234\u001b[39m \u001b[43m        \u001b[49m\u001b[43mstatement\u001b[49m\u001b[43m,\u001b[49m\n\u001b[32m   1235\u001b[39m \u001b[43m        \u001b[49m\u001b[43mparams\u001b[49m\u001b[43m,\u001b[49m\n\u001b[32m   1236\u001b[39m \u001b[43m        \u001b[49m\u001b[43mexecution_options\u001b[49m\u001b[43m=\u001b[49m\u001b[43mexecution_options\u001b[49m\u001b[43m,\u001b[49m\n\u001b[32m   1237\u001b[39m \u001b[43m    \u001b[49m\u001b[43m)\u001b[49m\n\u001b[32m   1239\u001b[39m primary_key = result.inserted_primary_key\n\u001b[32m   1240\u001b[39m \u001b[38;5;28;01mif\u001b[39;00m primary_key \u001b[38;5;129;01mis\u001b[39;00m \u001b[38;5;28;01mNone\u001b[39;00m:\n",
      "\u001b[36mFile \u001b[39m\u001b[32md:\\python-orm-study\\.venv\\Lib\\site-packages\\sqlalchemy\\engine\\base.py:1415\u001b[39m, in \u001b[36mConnection.execute\u001b[39m\u001b[34m(self, statement, parameters, execution_options)\u001b[39m\n\u001b[32m   1413\u001b[39m     \u001b[38;5;28;01mraise\u001b[39;00m exc.ObjectNotExecutableError(statement) \u001b[38;5;28;01mfrom\u001b[39;00m\u001b[38;5;250m \u001b[39m\u001b[34;01merr\u001b[39;00m\n\u001b[32m   1414\u001b[39m \u001b[38;5;28;01melse\u001b[39;00m:\n\u001b[32m-> \u001b[39m\u001b[32m1415\u001b[39m     \u001b[38;5;28;01mreturn\u001b[39;00m \u001b[43mmeth\u001b[49m\u001b[43m(\u001b[49m\n\u001b[32m   1416\u001b[39m \u001b[43m        \u001b[49m\u001b[38;5;28;43mself\u001b[39;49m\u001b[43m,\u001b[49m\n\u001b[32m   1417\u001b[39m \u001b[43m        \u001b[49m\u001b[43mdistilled_parameters\u001b[49m\u001b[43m,\u001b[49m\n\u001b[32m   1418\u001b[39m \u001b[43m        \u001b[49m\u001b[43mexecution_options\u001b[49m\u001b[43m \u001b[49m\u001b[38;5;129;43;01mor\u001b[39;49;00m\u001b[43m \u001b[49m\u001b[43mNO_OPTIONS\u001b[49m\u001b[43m,\u001b[49m\n\u001b[32m   1419\u001b[39m \u001b[43m    \u001b[49m\u001b[43m)\u001b[49m\n",
      "\u001b[36mFile \u001b[39m\u001b[32md:\\python-orm-study\\.venv\\Lib\\site-packages\\sqlalchemy\\sql\\elements.py:523\u001b[39m, in \u001b[36mClauseElement._execute_on_connection\u001b[39m\u001b[34m(self, connection, distilled_params, execution_options)\u001b[39m\n\u001b[32m    521\u001b[39m     \u001b[38;5;28;01mif\u001b[39;00m TYPE_CHECKING:\n\u001b[32m    522\u001b[39m         \u001b[38;5;28;01massert\u001b[39;00m \u001b[38;5;28misinstance\u001b[39m(\u001b[38;5;28mself\u001b[39m, Executable)\n\u001b[32m--> \u001b[39m\u001b[32m523\u001b[39m     \u001b[38;5;28;01mreturn\u001b[39;00m \u001b[43mconnection\u001b[49m\u001b[43m.\u001b[49m\u001b[43m_execute_clauseelement\u001b[49m\u001b[43m(\u001b[49m\n\u001b[32m    524\u001b[39m \u001b[43m        \u001b[49m\u001b[38;5;28;43mself\u001b[39;49m\u001b[43m,\u001b[49m\u001b[43m \u001b[49m\u001b[43mdistilled_params\u001b[49m\u001b[43m,\u001b[49m\u001b[43m \u001b[49m\u001b[43mexecution_options\u001b[49m\n\u001b[32m    525\u001b[39m \u001b[43m    \u001b[49m\u001b[43m)\u001b[49m\n\u001b[32m    526\u001b[39m \u001b[38;5;28;01melse\u001b[39;00m:\n\u001b[32m    527\u001b[39m     \u001b[38;5;28;01mraise\u001b[39;00m exc.ObjectNotExecutableError(\u001b[38;5;28mself\u001b[39m)\n",
      "\u001b[36mFile \u001b[39m\u001b[32md:\\python-orm-study\\.venv\\Lib\\site-packages\\sqlalchemy\\engine\\base.py:1637\u001b[39m, in \u001b[36mConnection._execute_clauseelement\u001b[39m\u001b[34m(self, elem, distilled_parameters, execution_options)\u001b[39m\n\u001b[32m   1625\u001b[39m compiled_cache: Optional[CompiledCacheType] = execution_options.get(\n\u001b[32m   1626\u001b[39m     \u001b[33m\"\u001b[39m\u001b[33mcompiled_cache\u001b[39m\u001b[33m\"\u001b[39m, \u001b[38;5;28mself\u001b[39m.engine._compiled_cache\n\u001b[32m   1627\u001b[39m )\n\u001b[32m   1629\u001b[39m compiled_sql, extracted_params, cache_hit = elem._compile_w_cache(\n\u001b[32m   1630\u001b[39m     dialect=dialect,\n\u001b[32m   1631\u001b[39m     compiled_cache=compiled_cache,\n\u001b[32m   (...)\u001b[39m\u001b[32m   1635\u001b[39m     linting=\u001b[38;5;28mself\u001b[39m.dialect.compiler_linting | compiler.WARN_LINTING,\n\u001b[32m   1636\u001b[39m )\n\u001b[32m-> \u001b[39m\u001b[32m1637\u001b[39m ret = \u001b[38;5;28;43mself\u001b[39;49m\u001b[43m.\u001b[49m\u001b[43m_execute_context\u001b[49m\u001b[43m(\u001b[49m\n\u001b[32m   1638\u001b[39m \u001b[43m    \u001b[49m\u001b[43mdialect\u001b[49m\u001b[43m,\u001b[49m\n\u001b[32m   1639\u001b[39m \u001b[43m    \u001b[49m\u001b[43mdialect\u001b[49m\u001b[43m.\u001b[49m\u001b[43mexecution_ctx_cls\u001b[49m\u001b[43m.\u001b[49m\u001b[43m_init_compiled\u001b[49m\u001b[43m,\u001b[49m\n\u001b[32m   1640\u001b[39m \u001b[43m    \u001b[49m\u001b[43mcompiled_sql\u001b[49m\u001b[43m,\u001b[49m\n\u001b[32m   1641\u001b[39m \u001b[43m    \u001b[49m\u001b[43mdistilled_parameters\u001b[49m\u001b[43m,\u001b[49m\n\u001b[32m   1642\u001b[39m \u001b[43m    \u001b[49m\u001b[43mexecution_options\u001b[49m\u001b[43m,\u001b[49m\n\u001b[32m   1643\u001b[39m \u001b[43m    \u001b[49m\u001b[43mcompiled_sql\u001b[49m\u001b[43m,\u001b[49m\n\u001b[32m   1644\u001b[39m \u001b[43m    \u001b[49m\u001b[43mdistilled_parameters\u001b[49m\u001b[43m,\u001b[49m\n\u001b[32m   1645\u001b[39m \u001b[43m    \u001b[49m\u001b[43melem\u001b[49m\u001b[43m,\u001b[49m\n\u001b[32m   1646\u001b[39m \u001b[43m    \u001b[49m\u001b[43mextracted_params\u001b[49m\u001b[43m,\u001b[49m\n\u001b[32m   1647\u001b[39m \u001b[43m    \u001b[49m\u001b[43mcache_hit\u001b[49m\u001b[43m=\u001b[49m\u001b[43mcache_hit\u001b[49m\u001b[43m,\u001b[49m\n\u001b[32m   1648\u001b[39m \u001b[43m\u001b[49m\u001b[43m)\u001b[49m\n\u001b[32m   1649\u001b[39m \u001b[38;5;28;01mif\u001b[39;00m has_events:\n\u001b[32m   1650\u001b[39m     \u001b[38;5;28mself\u001b[39m.dispatch.after_execute(\n\u001b[32m   1651\u001b[39m         \u001b[38;5;28mself\u001b[39m,\n\u001b[32m   1652\u001b[39m         elem,\n\u001b[32m   (...)\u001b[39m\u001b[32m   1656\u001b[39m         ret,\n\u001b[32m   1657\u001b[39m     )\n",
      "\u001b[36mFile \u001b[39m\u001b[32md:\\python-orm-study\\.venv\\Lib\\site-packages\\sqlalchemy\\engine\\base.py:1842\u001b[39m, in \u001b[36mConnection._execute_context\u001b[39m\u001b[34m(self, dialect, constructor, statement, parameters, execution_options, *args, **kw)\u001b[39m\n\u001b[32m   1840\u001b[39m     \u001b[38;5;28;01mreturn\u001b[39;00m \u001b[38;5;28mself\u001b[39m._exec_insertmany_context(dialect, context)\n\u001b[32m   1841\u001b[39m \u001b[38;5;28;01melse\u001b[39;00m:\n\u001b[32m-> \u001b[39m\u001b[32m1842\u001b[39m     \u001b[38;5;28;01mreturn\u001b[39;00m \u001b[38;5;28;43mself\u001b[39;49m\u001b[43m.\u001b[49m\u001b[43m_exec_single_context\u001b[49m\u001b[43m(\u001b[49m\n\u001b[32m   1843\u001b[39m \u001b[43m        \u001b[49m\u001b[43mdialect\u001b[49m\u001b[43m,\u001b[49m\u001b[43m \u001b[49m\u001b[43mcontext\u001b[49m\u001b[43m,\u001b[49m\u001b[43m \u001b[49m\u001b[43mstatement\u001b[49m\u001b[43m,\u001b[49m\u001b[43m \u001b[49m\u001b[43mparameters\u001b[49m\n\u001b[32m   1844\u001b[39m \u001b[43m    \u001b[49m\u001b[43m)\u001b[49m\n",
      "\u001b[36mFile \u001b[39m\u001b[32md:\\python-orm-study\\.venv\\Lib\\site-packages\\sqlalchemy\\engine\\base.py:1982\u001b[39m, in \u001b[36mConnection._exec_single_context\u001b[39m\u001b[34m(self, dialect, context, statement, parameters)\u001b[39m\n\u001b[32m   1979\u001b[39m     result = context._setup_result_proxy()\n\u001b[32m   1981\u001b[39m \u001b[38;5;28;01mexcept\u001b[39;00m \u001b[38;5;167;01mBaseException\u001b[39;00m \u001b[38;5;28;01mas\u001b[39;00m e:\n\u001b[32m-> \u001b[39m\u001b[32m1982\u001b[39m     \u001b[38;5;28;43mself\u001b[39;49m\u001b[43m.\u001b[49m\u001b[43m_handle_dbapi_exception\u001b[49m\u001b[43m(\u001b[49m\n\u001b[32m   1983\u001b[39m \u001b[43m        \u001b[49m\u001b[43me\u001b[49m\u001b[43m,\u001b[49m\u001b[43m \u001b[49m\u001b[43mstr_statement\u001b[49m\u001b[43m,\u001b[49m\u001b[43m \u001b[49m\u001b[43meffective_parameters\u001b[49m\u001b[43m,\u001b[49m\u001b[43m \u001b[49m\u001b[43mcursor\u001b[49m\u001b[43m,\u001b[49m\u001b[43m \u001b[49m\u001b[43mcontext\u001b[49m\n\u001b[32m   1984\u001b[39m \u001b[43m    \u001b[49m\u001b[43m)\u001b[49m\n\u001b[32m   1986\u001b[39m \u001b[38;5;28;01mreturn\u001b[39;00m result\n",
      "\u001b[36mFile \u001b[39m\u001b[32md:\\python-orm-study\\.venv\\Lib\\site-packages\\sqlalchemy\\engine\\base.py:2351\u001b[39m, in \u001b[36mConnection._handle_dbapi_exception\u001b[39m\u001b[34m(self, e, statement, parameters, cursor, context, is_sub_exec)\u001b[39m\n\u001b[32m   2349\u001b[39m \u001b[38;5;28;01melif\u001b[39;00m should_wrap:\n\u001b[32m   2350\u001b[39m     \u001b[38;5;28;01massert\u001b[39;00m sqlalchemy_exception \u001b[38;5;129;01mis\u001b[39;00m \u001b[38;5;129;01mnot\u001b[39;00m \u001b[38;5;28;01mNone\u001b[39;00m\n\u001b[32m-> \u001b[39m\u001b[32m2351\u001b[39m     \u001b[38;5;28;01mraise\u001b[39;00m sqlalchemy_exception.with_traceback(exc_info[\u001b[32m2\u001b[39m]) \u001b[38;5;28;01mfrom\u001b[39;00m\u001b[38;5;250m \u001b[39m\u001b[34;01me\u001b[39;00m\n\u001b[32m   2352\u001b[39m \u001b[38;5;28;01melse\u001b[39;00m:\n\u001b[32m   2353\u001b[39m     \u001b[38;5;28;01massert\u001b[39;00m exc_info[\u001b[32m1\u001b[39m] \u001b[38;5;129;01mis\u001b[39;00m \u001b[38;5;129;01mnot\u001b[39;00m \u001b[38;5;28;01mNone\u001b[39;00m\n",
      "\u001b[36mFile \u001b[39m\u001b[32md:\\python-orm-study\\.venv\\Lib\\site-packages\\sqlalchemy\\engine\\base.py:1963\u001b[39m, in \u001b[36mConnection._exec_single_context\u001b[39m\u001b[34m(self, dialect, context, statement, parameters)\u001b[39m\n\u001b[32m   1961\u001b[39m                 \u001b[38;5;28;01mbreak\u001b[39;00m\n\u001b[32m   1962\u001b[39m     \u001b[38;5;28;01mif\u001b[39;00m \u001b[38;5;129;01mnot\u001b[39;00m evt_handled:\n\u001b[32m-> \u001b[39m\u001b[32m1963\u001b[39m         \u001b[38;5;28;43mself\u001b[39;49m\u001b[43m.\u001b[49m\u001b[43mdialect\u001b[49m\u001b[43m.\u001b[49m\u001b[43mdo_execute\u001b[49m\u001b[43m(\u001b[49m\n\u001b[32m   1964\u001b[39m \u001b[43m            \u001b[49m\u001b[43mcursor\u001b[49m\u001b[43m,\u001b[49m\u001b[43m \u001b[49m\u001b[43mstr_statement\u001b[49m\u001b[43m,\u001b[49m\u001b[43m \u001b[49m\u001b[43meffective_parameters\u001b[49m\u001b[43m,\u001b[49m\u001b[43m \u001b[49m\u001b[43mcontext\u001b[49m\n\u001b[32m   1965\u001b[39m \u001b[43m        \u001b[49m\u001b[43m)\u001b[49m\n\u001b[32m   1967\u001b[39m \u001b[38;5;28;01mif\u001b[39;00m \u001b[38;5;28mself\u001b[39m._has_events \u001b[38;5;129;01mor\u001b[39;00m \u001b[38;5;28mself\u001b[39m.engine._has_events:\n\u001b[32m   1968\u001b[39m     \u001b[38;5;28mself\u001b[39m.dispatch.after_cursor_execute(\n\u001b[32m   1969\u001b[39m         \u001b[38;5;28mself\u001b[39m,\n\u001b[32m   1970\u001b[39m         cursor,\n\u001b[32m   (...)\u001b[39m\u001b[32m   1974\u001b[39m         context.executemany,\n\u001b[32m   1975\u001b[39m     )\n",
      "\u001b[36mFile \u001b[39m\u001b[32md:\\python-orm-study\\.venv\\Lib\\site-packages\\sqlalchemy\\engine\\default.py:943\u001b[39m, in \u001b[36mDefaultDialect.do_execute\u001b[39m\u001b[34m(self, cursor, statement, parameters, context)\u001b[39m\n\u001b[32m    942\u001b[39m \u001b[38;5;28;01mdef\u001b[39;00m\u001b[38;5;250m \u001b[39m\u001b[34mdo_execute\u001b[39m(\u001b[38;5;28mself\u001b[39m, cursor, statement, parameters, context=\u001b[38;5;28;01mNone\u001b[39;00m):\n\u001b[32m--> \u001b[39m\u001b[32m943\u001b[39m     \u001b[43mcursor\u001b[49m\u001b[43m.\u001b[49m\u001b[43mexecute\u001b[49m\u001b[43m(\u001b[49m\u001b[43mstatement\u001b[49m\u001b[43m,\u001b[49m\u001b[43m \u001b[49m\u001b[43mparameters\u001b[49m\u001b[43m)\u001b[49m\n",
      "\u001b[31mIntegrityError\u001b[39m: (psycopg2.errors.UniqueViolation) duplicate key value violates unique constraint \"ix_user_username\"\nDETAIL:  Key (username)=(bank) already exists.\n\n[SQL: INSERT INTO \"user\" (username, password, email, created_dt, updated_dt) VALUES (%(username)s, %(password)s, %(email)s, %(created_dt)s, %(updated_dt)s) RETURNING \"user\".user_id]\n[parameters: {'username': 'bank', 'password': 'test', 'email': 'bank.bank@bank.com', 'created_dt': datetime.datetime(2025, 6, 27, 17, 29, 12, 811405, tzinfo=datetime.timezone.utc), 'updated_dt': datetime.datetime(2025, 6, 27, 17, 29, 12, 811405, tzinfo=datetime.timezone.utc)}]\n(Background on this error at: https://sqlalche.me/e/20/gkpj)"
     ]
    }
   ],
   "source": [
    "def create_user(user:User, session: Session = Depends(get_session)):\n",
    "    session.add(user)\n",
    "    session.commit()\n",
    "    session.refresh(user)\n",
    "    session.close()\n",
    "    return user\n",
    "\n",
    "bank = User(username=\"bank\", password=\"test\", email=\"bank.bank@bank.com\")\n",
    "bonk = User(username=\"bonk\", password=\"test\", email=\"bonk.bonk@bank.com\")\n",
    "users = [bank, bonk]\n",
    "for user in users:\n",
    "    print(create_user(user=user))"
   ]
  },
  {
   "cell_type": "code",
   "execution_count": null,
   "id": "62913f7f",
   "metadata": {},
   "outputs": [
    {
     "data": {
      "text/plain": [
       "[User(username='bank', user_id=1, updated_dt=datetime.datetime(2025, 6, 23, 12, 53, 8, 671454), password='test', email='bank.bank@bank.com', created_dt=datetime.datetime(2025, 6, 23, 12, 53, 8, 671454))]"
      ]
     },
     "execution_count": 5,
     "metadata": {},
     "output_type": "execute_result"
    }
   ],
   "source": [
    "def read_user(user_id: int, session=Depends(get_session)):\n",
    "    statement = select(User).where(User.user_id == user_id)\n",
    "    results = session.exec(statement).all()\n",
    "    session.close()\n",
    "    return results\n",
    "\n",
    "read_user(1)"
   ]
  },
  {
   "cell_type": "code",
   "execution_count": null,
   "id": "fcddeb86",
   "metadata": {},
   "outputs": [
    {
     "data": {
      "text/plain": [
       "[User(username='bank', user_id=1, updated_dt=datetime.datetime(2025, 6, 23, 12, 53, 8, 671454), password='test', email='bank.bank@bank.com', created_dt=datetime.datetime(2025, 6, 23, 12, 53, 8, 671454)),\n",
       " User(username='bonk', user_id=2, updated_dt=datetime.datetime(2025, 6, 23, 12, 53, 8, 672455), password='test', email='bonk.bonk@bank.com', created_dt=datetime.datetime(2025, 6, 23, 12, 53, 8, 672455))]"
      ]
     },
     "execution_count": 6,
     "metadata": {},
     "output_type": "execute_result"
    }
   ],
   "source": [
    "def read_users(session=Depends(get_session)):\n",
    "    statement = select(User)\n",
    "    results = session.exec(statement).all()\n",
    "    session.close()\n",
    "    return results\n",
    "\n",
    "read_users()"
   ]
  },
  {
   "cell_type": "markdown",
   "id": "c6dc45bd",
   "metadata": {},
   "source": [
    "## Update"
   ]
  },
  {
   "cell_type": "code",
   "execution_count": 5,
   "id": "1a695395",
   "metadata": {},
   "outputs": [
    {
     "data": {
      "text/plain": [
       "User(username='bank', user_id=1, updated_dt=datetime.datetime(2025, 6, 27, 17, 29, 14, 625214), email='bankbank@bank.com', password='test', created_dt=datetime.datetime(2025, 6, 23, 12, 53, 8, 671454))"
      ]
     },
     "execution_count": 5,
     "metadata": {},
     "output_type": "execute_result"
    }
   ],
   "source": [
    "from datetime import datetime, timezone\n",
    "\n",
    "def update_user_email(user_id: int, new_email: str, session: Session = Depends(get_session)):\n",
    "    user = session.get(User, user_id)\n",
    "    if user:\n",
    "        user.email = new_email\n",
    "        user.updated_dt = datetime.now(timezone.utc)  # ✅ update timestamp\n",
    "        session.add(user)\n",
    "        session.commit()\n",
    "        session.refresh(user)\n",
    "        session.close()\n",
    "    return user\n",
    "\n",
    "update_user_email(user_id=1, new_email=\"bankbank@bank.com\")"
   ]
  },
  {
   "cell_type": "code",
   "execution_count": 6,
   "id": "db1cf5c8",
   "metadata": {},
   "outputs": [
    {
     "data": {
      "text/plain": [
       "Project(created_dt=datetime.datetime(2025, 6, 27, 17, 29, 15, 267956), project_id=5, owner_id=1, project_name='Project 2', updated_dt=datetime.datetime(2025, 6, 27, 17, 29, 15, 267956))"
      ]
     },
     "execution_count": 6,
     "metadata": {},
     "output_type": "execute_result"
    }
   ],
   "source": [
    "def create_project(project: Project, session: Session = Depends(get_session)):\n",
    "    session.add(project)\n",
    "    session.commit()\n",
    "    session.refresh(project)\n",
    "    session.close()\n",
    "    return project\n",
    "\n",
    "project1 = Project(\n",
    "    project_name=\"Project 1\",\n",
    "    owner_id=1\n",
    ")\n",
    "\n",
    "project2 = Project(\n",
    "    project_name=\"Project 2\",\n",
    "    owner_id=1\n",
    ")\n",
    "create_project(project1)\n",
    "create_project(project2)"
   ]
  },
  {
   "cell_type": "code",
   "execution_count": 7,
   "id": "7c9b6778",
   "metadata": {},
   "outputs": [
    {
     "data": {
      "text/plain": [
       "Project(created_dt=datetime.datetime(2025, 6, 27, 17, 29, 15, 880671), project_id=6, owner_id=2, project_name='Project 1', updated_dt=datetime.datetime(2025, 6, 27, 17, 29, 15, 880671))"
      ]
     },
     "execution_count": 7,
     "metadata": {},
     "output_type": "execute_result"
    }
   ],
   "source": [
    "project = Project(\n",
    "    project_name=\"Project 1\",\n",
    "    owner_id=2\n",
    ")\n",
    "\n",
    "create_project(project)"
   ]
  },
  {
   "cell_type": "code",
   "execution_count": 8,
   "id": "066b5356",
   "metadata": {},
   "outputs": [
    {
     "data": {
      "text/plain": [
       "Project(created_dt=datetime.datetime(2025, 6, 23, 12, 53, 10, 585635), project_id=1, owner_id=1, project_name='Project 1', updated_dt=datetime.datetime(2025, 6, 23, 12, 53, 10, 585635))"
      ]
     },
     "execution_count": 8,
     "metadata": {},
     "output_type": "execute_result"
    }
   ],
   "source": [
    "def read_project(project_id:int, session:Session=Depends(get_session)):\n",
    "    project = session.get(Project, project_id)\n",
    "    session.close()\n",
    "    return project\n",
    "\n",
    "def read_projects(session:Session=Depends(get_session)):\n",
    "    statement = select(Project)\n",
    "    results = session.exec(statement).all()\n",
    "    session.close()\n",
    "    return results\n",
    "\n",
    "\n",
    "read_project(project_id=1)"
   ]
  },
  {
   "cell_type": "code",
   "execution_count": 9,
   "id": "fc68396a",
   "metadata": {},
   "outputs": [
    {
     "data": {
      "text/plain": [
       "Project(created_dt=datetime.datetime(2025, 6, 23, 12, 53, 10, 585635), project_id=2, owner_id=1, project_name='Project 2', updated_dt=datetime.datetime(2025, 6, 23, 12, 53, 10, 585635))"
      ]
     },
     "execution_count": 9,
     "metadata": {},
     "output_type": "execute_result"
    }
   ],
   "source": [
    "read_project(project_id=2)"
   ]
  },
  {
   "cell_type": "code",
   "execution_count": 10,
   "id": "d015efdc",
   "metadata": {},
   "outputs": [
    {
     "data": {
      "text/plain": [
       "[Project(created_dt=datetime.datetime(2025, 6, 23, 12, 53, 10, 585635), project_id=1, owner_id=1, project_name='Project 1', updated_dt=datetime.datetime(2025, 6, 23, 12, 53, 10, 585635)),\n",
       " Project(created_dt=datetime.datetime(2025, 6, 23, 12, 53, 10, 585635), project_id=2, owner_id=1, project_name='Project 2', updated_dt=datetime.datetime(2025, 6, 23, 12, 53, 10, 585635)),\n",
       " Project(created_dt=datetime.datetime(2025, 6, 23, 12, 53, 10, 807805), project_id=3, owner_id=2, project_name='Project 1', updated_dt=datetime.datetime(2025, 6, 23, 12, 53, 10, 807805)),\n",
       " Project(created_dt=datetime.datetime(2025, 6, 27, 17, 29, 15, 267956), project_id=4, owner_id=1, project_name='Project 1', updated_dt=datetime.datetime(2025, 6, 27, 17, 29, 15, 267956)),\n",
       " Project(created_dt=datetime.datetime(2025, 6, 27, 17, 29, 15, 267956), project_id=5, owner_id=1, project_name='Project 2', updated_dt=datetime.datetime(2025, 6, 27, 17, 29, 15, 267956)),\n",
       " Project(created_dt=datetime.datetime(2025, 6, 27, 17, 29, 15, 880671), project_id=6, owner_id=2, project_name='Project 1', updated_dt=datetime.datetime(2025, 6, 27, 17, 29, 15, 880671))]"
      ]
     },
     "execution_count": 10,
     "metadata": {},
     "output_type": "execute_result"
    }
   ],
   "source": [
    "read_projects()"
   ]
  },
  {
   "cell_type": "code",
   "execution_count": 11,
   "id": "2c0c1036",
   "metadata": {},
   "outputs": [
    {
     "data": {
      "text/plain": [
       "[Project(created_dt=datetime.datetime(2025, 6, 23, 12, 53, 10, 585635), project_id=1, owner_id=1, project_name='Project 1', updated_dt=datetime.datetime(2025, 6, 23, 12, 53, 10, 585635)),\n",
       " Project(created_dt=datetime.datetime(2025, 6, 23, 12, 53, 10, 585635), project_id=2, owner_id=1, project_name='Project 2', updated_dt=datetime.datetime(2025, 6, 23, 12, 53, 10, 585635)),\n",
       " Project(created_dt=datetime.datetime(2025, 6, 27, 17, 29, 15, 267956), project_id=4, owner_id=1, project_name='Project 1', updated_dt=datetime.datetime(2025, 6, 27, 17, 29, 15, 267956)),\n",
       " Project(created_dt=datetime.datetime(2025, 6, 27, 17, 29, 15, 267956), project_id=5, owner_id=1, project_name='Project 2', updated_dt=datetime.datetime(2025, 6, 27, 17, 29, 15, 267956))]"
      ]
     },
     "execution_count": 11,
     "metadata": {},
     "output_type": "execute_result"
    }
   ],
   "source": [
    "def read_projects_by_user_id(user_id:int, session:Session=Depends(get_session)):\n",
    "    user = session.get(User, user_id)\n",
    "    projects = user.projects\n",
    "    session.close()\n",
    "    return projects\n",
    "\n",
    "read_projects_by_user_id(user_id=1)"
   ]
  },
  {
   "cell_type": "code",
   "execution_count": 12,
   "id": "5b01539a",
   "metadata": {},
   "outputs": [
    {
     "data": {
      "text/plain": [
       "[Project(created_dt=datetime.datetime(2025, 6, 23, 12, 53, 10, 807805), project_id=3, owner_id=2, project_name='Project 1', updated_dt=datetime.datetime(2025, 6, 23, 12, 53, 10, 807805)),\n",
       " Project(created_dt=datetime.datetime(2025, 6, 27, 17, 29, 15, 880671), project_id=6, owner_id=2, project_name='Project 1', updated_dt=datetime.datetime(2025, 6, 27, 17, 29, 15, 880671))]"
      ]
     },
     "execution_count": 12,
     "metadata": {},
     "output_type": "execute_result"
    }
   ],
   "source": [
    "read_projects_by_user_id(user_id=2)"
   ]
  },
  {
   "cell_type": "code",
   "execution_count": 13,
   "id": "a74a59fe",
   "metadata": {},
   "outputs": [
    {
     "data": {
      "text/plain": [
       "User(username='bank', user_id=1, updated_dt=datetime.datetime(2025, 6, 27, 17, 29, 14, 625214), email='bankbank@bank.com', password='test', created_dt=datetime.datetime(2025, 6, 23, 12, 53, 8, 671454))"
      ]
     },
     "execution_count": 13,
     "metadata": {},
     "output_type": "execute_result"
    }
   ],
   "source": [
    "def read_user_by_project(project_id:int, session:Session=Depends(get_session)):\n",
    "    project = session.get(Project, project_id)\n",
    "    owner = project.owner\n",
    "    session.close()\n",
    "    return owner\n",
    "\n",
    "read_user_by_project(project_id=1)"
   ]
  },
  {
   "cell_type": "code",
   "execution_count": 14,
   "id": "fc1d4090",
   "metadata": {},
   "outputs": [
    {
     "data": {
      "text/plain": [
       "User(username='bonk', user_id=2, updated_dt=datetime.datetime(2025, 6, 23, 12, 53, 8, 672455), email='bonk.bonk@bank.com', password='test', created_dt=datetime.datetime(2025, 6, 23, 12, 53, 8, 672455))"
      ]
     },
     "execution_count": 14,
     "metadata": {},
     "output_type": "execute_result"
    }
   ],
   "source": [
    "read_user_by_project(project_id=3)"
   ]
  },
  {
   "cell_type": "code",
   "execution_count": 15,
   "id": "fa9bfb9f",
   "metadata": {},
   "outputs": [
    {
     "data": {
      "text/plain": [
       "LongTerm(context='context 2', embedding=array([0., 0., 0.], dtype=float32), meta={'source': 'b', 'sequence': 2}, id=4)"
      ]
     },
     "execution_count": 15,
     "metadata": {},
     "output_type": "execute_result"
    }
   ],
   "source": [
    "from package.databases.models.longterm import LongTerm\n",
    "\n",
    "def create_longterm(context:LongTerm, session:Session=Depends(get_session)):\n",
    "    session.add(context)\n",
    "    session.commit()\n",
    "    session.refresh(context)\n",
    "    session.close()\n",
    "    return context\n",
    "\n",
    "context1 = LongTerm(\n",
    "    context=\"context 1\",\n",
    "    embedding=[0.5,0.5,0.5],\n",
    "    meta={\"source\": \"a\", \"sequence\": 1}\n",
    ")\n",
    "\n",
    "context2 = LongTerm(\n",
    "    context=\"context 2\",\n",
    "    embedding=[0.0, 0.0, 0.0],\n",
    "    meta={\"source\": \"b\", \"sequence\": 2}\n",
    ")\n",
    "\n",
    "create_longterm(context1)\n",
    "create_longterm(context2)"
   ]
  },
  {
   "cell_type": "code",
   "execution_count": 16,
   "id": "b9ec3c7b",
   "metadata": {},
   "outputs": [
    {
     "data": {
      "text/plain": [
       "LongTerm(context='context 1', embedding=array([0.5, 0.5, 0.5], dtype=float32), meta={'source': 'a', 'sequence': 1}, id=1)"
      ]
     },
     "execution_count": 16,
     "metadata": {},
     "output_type": "execute_result"
    }
   ],
   "source": [
    "def read_longterm(id:int, session:Session=Depends(get_session)):\n",
    "    longterm = session.get(LongTerm, id)\n",
    "    session.close()\n",
    "    return longterm\n",
    "\n",
    "read_longterm(id=1)"
   ]
  },
  {
   "cell_type": "code",
   "execution_count": 17,
   "id": "665d7698",
   "metadata": {},
   "outputs": [
    {
     "data": {
      "text/plain": [
       "LongTerm(context='context 2', embedding=array([0., 0., 0.], dtype=float32), meta={'source': 'b', 'sequence': 2}, id=2)"
      ]
     },
     "execution_count": 17,
     "metadata": {},
     "output_type": "execute_result"
    }
   ],
   "source": [
    "read_longterm(id=2)"
   ]
  },
  {
   "cell_type": "code",
   "execution_count": 18,
   "id": "ae12faaf",
   "metadata": {},
   "outputs": [
    {
     "data": {
      "text/plain": [
       "[LongTerm(context='context 2', embedding=array([0., 0., 0.], dtype=float32), meta={'source': 'b', 'sequence': 2}, id=2),\n",
       " LongTerm(context='context 2', embedding=array([0., 0., 0.], dtype=float32), meta={'source': 'b', 'sequence': 2}, id=4)]"
      ]
     },
     "execution_count": 18,
     "metadata": {},
     "output_type": "execute_result"
    }
   ],
   "source": [
    "def read_similar_longterm(vector:list[float], limit:int=1, session:Session=Depends(get_session)):\n",
    "    statement = select(LongTerm).order_by(LongTerm.embedding.l2_distance(vector)).limit(limit)\n",
    "    results = session.exec(statement).all()\n",
    "    session.close()\n",
    "    return results\n",
    "\n",
    "read_similar_longterm(vector=[0,0,0], limit=2)"
   ]
  },
  {
   "cell_type": "code",
   "execution_count": 19,
   "id": "12466969",
   "metadata": {},
   "outputs": [
    {
     "data": {
      "text/plain": [
       "[LongTerm(context='context 1', embedding=array([0.5, 0.5, 0.5], dtype=float32), meta={'source': 'a', 'sequence': 1}, id=1),\n",
       " LongTerm(context='context 1', embedding=array([0.5, 0.5, 0.5], dtype=float32), meta={'source': 'a', 'sequence': 1}, id=3)]"
      ]
     },
     "execution_count": 19,
     "metadata": {},
     "output_type": "execute_result"
    }
   ],
   "source": [
    "read_similar_longterm(vector=[0.5,0.5,0.5], limit=2)"
   ]
  },
  {
   "cell_type": "code",
   "execution_count": 20,
   "id": "84b38af8",
   "metadata": {},
   "outputs": [
    {
     "data": {
      "text/plain": [
       "[LongTerm(context='context 2', embedding=array([0., 0., 0.], dtype=float32), meta={'source': 'b', 'sequence': 2}, id=2),\n",
       " LongTerm(context='context 2', embedding=array([0., 0., 0.], dtype=float32), meta={'source': 'b', 'sequence': 2}, id=4)]"
      ]
     },
     "execution_count": 20,
     "metadata": {},
     "output_type": "execute_result"
    }
   ],
   "source": [
    "from sqlmodel import text\n",
    "import json\n",
    "\n",
    "def filter_longterm(params:dict, session:Session=Depends(get_session)):\n",
    "    statement = select(LongTerm).where(\n",
    "        text(\"meta @> :jsonb_filter\")\n",
    "    ).params(jsonb_filter=json.dumps(params))\n",
    "    results = session.exec(statement).all()\n",
    "    session.close()\n",
    "    return results\n",
    "\n",
    "filter_longterm(params={\"source\": \"b\"})"
   ]
  },
  {
   "cell_type": "code",
   "execution_count": 21,
   "id": "50694538",
   "metadata": {},
   "outputs": [
    {
     "data": {
      "text/plain": [
       "[LongTerm(context='context 1', embedding=array([0.5, 0.5, 0.5], dtype=float32), meta={'source': 'a', 'sequence': 1}, id=1),\n",
       " LongTerm(context='context 1', embedding=array([0.5, 0.5, 0.5], dtype=float32), meta={'source': 'a', 'sequence': 1}, id=3)]"
      ]
     },
     "execution_count": 21,
     "metadata": {},
     "output_type": "execute_result"
    }
   ],
   "source": [
    "from sqlmodel import text\n",
    "\n",
    "def read_longterm(vector:list[float], limit:int=5, sources:list[str]=None, session:Session=Depends(get_session)):\n",
    "    statement = select(LongTerm)\n",
    "    if sources:\n",
    "        statement=statement.where(text(\"meta ->> 'source' = ANY(:sources)\"))\n",
    "    statement = statement.order_by(LongTerm.embedding.l2_distance(vector)).limit(limit).params(sources=sources)\n",
    "    results = session.exec(statement).all()\n",
    "    session.close()\n",
    "    return results\n",
    "\n",
    "read_longterm(\n",
    "    vector=[0,0,0],\n",
    "    sources=[\"a\"]\n",
    ")"
   ]
  },
  {
   "cell_type": "code",
   "execution_count": 22,
   "id": "49e37d48",
   "metadata": {},
   "outputs": [
    {
     "data": {
      "text/plain": [
       "[LongTerm(context='context 1', embedding=array([0.5, 0.5, 0.5], dtype=float32), meta={'source': 'a', 'sequence': 1}, id=1),\n",
       " LongTerm(context='context 1', embedding=array([0.5, 0.5, 0.5], dtype=float32), meta={'source': 'a', 'sequence': 1}, id=3),\n",
       " LongTerm(context='context 2', embedding=array([0., 0., 0.], dtype=float32), meta={'source': 'b', 'sequence': 2}, id=2),\n",
       " LongTerm(context='context 2', embedding=array([0., 0., 0.], dtype=float32), meta={'source': 'b', 'sequence': 2}, id=4)]"
      ]
     },
     "execution_count": 22,
     "metadata": {},
     "output_type": "execute_result"
    }
   ],
   "source": [
    "read_longterm(\n",
    "    vector=[0.5,0.5,0.5],\n",
    "    sources=[\"a\", \"b\"]\n",
    ")"
   ]
  },
  {
   "cell_type": "markdown",
   "id": "fc15ce51",
   "metadata": {},
   "source": [
    "## Delete"
   ]
  },
  {
   "cell_type": "code",
   "execution_count": 39,
   "id": "f6b53861",
   "metadata": {},
   "outputs": [
    {
     "data": {
      "text/plain": [
       "True"
      ]
     },
     "execution_count": 39,
     "metadata": {},
     "output_type": "execute_result"
    }
   ],
   "source": [
    "def delete_user(user_id: int, session: Session = Depends(get_session)):\n",
    "    user = session.get(User, user_id)\n",
    "    if user:\n",
    "        session.delete(user)\n",
    "        session.commit()\n",
    "        session.close()\n",
    "        return True\n",
    "    return False\n",
    "\n",
    "delete_user(user_id=1)\n"
   ]
  },
  {
   "cell_type": "code",
   "execution_count": 40,
   "id": "7e38c6fc",
   "metadata": {},
   "outputs": [
    {
     "data": {
      "text/plain": [
       "[User(username='bonk', user_id=2, updated_dt=datetime.datetime(2025, 6, 22, 17, 5, 22, 935684), password='test', email='bonk.bonk@bank.com', created_dt=datetime.datetime(2025, 6, 22, 17, 5, 22, 935684))]"
      ]
     },
     "execution_count": 40,
     "metadata": {},
     "output_type": "execute_result"
    }
   ],
   "source": [
    "read_users()"
   ]
  },
  {
   "cell_type": "code",
   "execution_count": 41,
   "id": "b2edc283",
   "metadata": {},
   "outputs": [
    {
     "data": {
      "text/plain": [
       "[Project(created_dt=datetime.datetime(2025, 6, 22, 17, 5, 26, 629407), project_id=3, owner_id=2, project_name='Project 1', updated_dt=datetime.datetime(2025, 6, 22, 17, 5, 26, 629407))]"
      ]
     },
     "execution_count": 41,
     "metadata": {},
     "output_type": "execute_result"
    }
   ],
   "source": [
    "read_projects()"
   ]
  },
  {
   "cell_type": "markdown",
   "id": "14dd098e",
   "metadata": {},
   "source": [
    "# Drop the selected table"
   ]
  },
  {
   "cell_type": "code",
   "execution_count": null,
   "id": "22e60438",
   "metadata": {},
   "outputs": [
    {
     "name": "stdout",
     "output_type": "stream",
     "text": [
      "✅ Dropped 'user' table.\n"
     ]
    }
   ],
   "source": [
    "from package.databases.drop import drop_table\n",
    "# if there's relationship between two tables, it breaks\n",
    "# drop_table(User)"
   ]
  },
  {
   "cell_type": "markdown",
   "id": "d12cc691",
   "metadata": {},
   "source": [
    "# Drop all tables"
   ]
  },
  {
   "cell_type": "code",
   "execution_count": 1,
   "id": "7f1d50fe",
   "metadata": {},
   "outputs": [
    {
     "name": "stdout",
     "output_type": "stream",
     "text": [
      "✅ All tables dropped.\n"
     ]
    }
   ],
   "source": [
    "from package.databases.drop import drop_all_tables\n",
    "\n",
    "drop_all_tables()"
   ]
  },
  {
   "cell_type": "code",
   "execution_count": null,
   "id": "4d566082",
   "metadata": {},
   "outputs": [],
   "source": []
  }
 ],
 "metadata": {
  "kernelspec": {
   "display_name": "python-orm-study",
   "language": "python",
   "name": "python3"
  },
  "language_info": {
   "codemirror_mode": {
    "name": "ipython",
    "version": 3
   },
   "file_extension": ".py",
   "mimetype": "text/x-python",
   "name": "python",
   "nbconvert_exporter": "python",
   "pygments_lexer": "ipython3",
   "version": "3.11.11"
  }
 },
 "nbformat": 4,
 "nbformat_minor": 5
}

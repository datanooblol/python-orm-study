{
 "cells": [
  {
   "cell_type": "code",
   "execution_count": 17,
   "id": "dea8cbe9",
   "metadata": {},
   "outputs": [
    {
     "name": "stdout",
     "output_type": "stream",
     "text": [
      "The autoreload extension is already loaded. To reload it, use:\n",
      "  %reload_ext autoreload\n"
     ]
    }
   ],
   "source": [
    "%load_ext autoreload\n",
    "%autoreload 2"
   ]
  },
  {
   "cell_type": "markdown",
   "id": "caab5f3f",
   "metadata": {},
   "source": [
    "# Initialize DB and Tables"
   ]
  },
  {
   "cell_type": "code",
   "execution_count": 18,
   "id": "79ba1e87",
   "metadata": {},
   "outputs": [],
   "source": [
    "from package.databases.initialize import init_db_and_tables\n",
    "\n",
    "init_db_and_tables()"
   ]
  },
  {
   "cell_type": "code",
   "execution_count": 19,
   "id": "1209363a",
   "metadata": {},
   "outputs": [],
   "source": [
    "from sqlmodel import Session, select, Text\n",
    "from typing import List\n",
    "from package.databases.session import get_session, Depends\n",
    "from package.databases.models.user import User"
   ]
  },
  {
   "cell_type": "markdown",
   "id": "bb1ca4d8",
   "metadata": {},
   "source": [
    "# CRUD"
   ]
  },
  {
   "cell_type": "markdown",
   "id": "a0ee36e8",
   "metadata": {},
   "source": [
    "## Create"
   ]
  },
  {
   "cell_type": "code",
   "execution_count": 20,
   "id": "3858ec73",
   "metadata": {},
   "outputs": [
    {
     "name": "stdout",
     "output_type": "stream",
     "text": [
      "password='test' email='bank.bank@bank.com' created_dt=datetime.datetime(2025, 6, 21, 18, 0, 36, 58347) username='bank' user_id=1 updated_dt=datetime.datetime(2025, 6, 21, 18, 0, 36, 58347)\n",
      "password='test' email='bonk.bonk@bank.com' created_dt=datetime.datetime(2025, 6, 21, 18, 0, 36, 58347) username='bonk' user_id=2 updated_dt=datetime.datetime(2025, 6, 21, 18, 0, 36, 58347)\n"
     ]
    }
   ],
   "source": [
    "def create_user(user:User, session: Session = Depends(get_session)):\n",
    "    session.add(user)\n",
    "    session.commit()\n",
    "    session.refresh(user)\n",
    "    session.close()\n",
    "    return user\n",
    "\n",
    "bank = User(username=\"bank\", password=\"test\", email=\"bank.bank@bank.com\")\n",
    "bonk = User(username=\"bonk\", password=\"test\", email=\"bonk.bonk@bank.com\")\n",
    "users = [bank, bonk]\n",
    "for user in users:\n",
    "    print(create_user(user=user))"
   ]
  },
  {
   "cell_type": "code",
   "execution_count": 21,
   "id": "62913f7f",
   "metadata": {},
   "outputs": [
    {
     "data": {
      "text/plain": [
       "[User(password='test', email='bank.bank@bank.com', created_dt=datetime.datetime(2025, 6, 21, 18, 0, 36, 58347), username='bank', user_id=1, updated_dt=datetime.datetime(2025, 6, 21, 18, 0, 36, 58347))]"
      ]
     },
     "execution_count": 21,
     "metadata": {},
     "output_type": "execute_result"
    }
   ],
   "source": [
    "def read_user(user_id: int, session=Depends(get_session)):\n",
    "    statement = select(User).where(User.user_id == user_id)\n",
    "    results = session.exec(statement).all()\n",
    "    session.close()\n",
    "    return results\n",
    "\n",
    "read_user(1)"
   ]
  },
  {
   "cell_type": "code",
   "execution_count": 22,
   "id": "fcddeb86",
   "metadata": {},
   "outputs": [
    {
     "data": {
      "text/plain": [
       "[User(password='test', email='bank.bank@bank.com', created_dt=datetime.datetime(2025, 6, 21, 18, 0, 36, 58347), username='bank', user_id=1, updated_dt=datetime.datetime(2025, 6, 21, 18, 0, 36, 58347)),\n",
       " User(password='test', email='bonk.bonk@bank.com', created_dt=datetime.datetime(2025, 6, 21, 18, 0, 36, 58347), username='bonk', user_id=2, updated_dt=datetime.datetime(2025, 6, 21, 18, 0, 36, 58347))]"
      ]
     },
     "execution_count": 22,
     "metadata": {},
     "output_type": "execute_result"
    }
   ],
   "source": [
    "def read_users(session=Depends(get_session)):\n",
    "    statement = select(User)\n",
    "    results = session.exec(statement).all()\n",
    "    session.close()\n",
    "    return results\n",
    "\n",
    "read_users()"
   ]
  },
  {
   "cell_type": "markdown",
   "id": "c6dc45bd",
   "metadata": {},
   "source": [
    "## Update"
   ]
  },
  {
   "cell_type": "code",
   "execution_count": 23,
   "id": "1a695395",
   "metadata": {},
   "outputs": [
    {
     "data": {
      "text/plain": [
       "User(password='test', email='bankbank@bank.com', created_dt=datetime.datetime(2025, 6, 21, 18, 0, 36, 58347), username='bank', user_id=1, updated_dt=datetime.datetime(2025, 6, 21, 18, 0, 37, 474388))"
      ]
     },
     "execution_count": 23,
     "metadata": {},
     "output_type": "execute_result"
    }
   ],
   "source": [
    "from datetime import datetime, timezone\n",
    "\n",
    "def update_user_email(user_id: int, new_email: str, session: Session = Depends(get_session)):\n",
    "    user = session.get(User, user_id)\n",
    "    if user:\n",
    "        user.email = new_email\n",
    "        user.updated_dt = datetime.now(timezone.utc)  # ✅ update timestamp\n",
    "        session.add(user)\n",
    "        session.commit()\n",
    "        session.refresh(user)\n",
    "        session.close()\n",
    "    return user\n",
    "\n",
    "update_user_email(user_id=1, new_email=\"bankbank@bank.com\")"
   ]
  },
  {
   "cell_type": "code",
   "execution_count": 24,
   "id": "db1cf5c8",
   "metadata": {},
   "outputs": [
    {
     "data": {
      "text/plain": [
       "Workspace(workspace_name='test 1', owner_id=1, workspace_id=1, updated_dt=datetime.datetime(2025, 6, 21, 18, 0, 37, 672053), created_dt=datetime.datetime(2025, 6, 21, 18, 0, 37, 672053))"
      ]
     },
     "execution_count": 24,
     "metadata": {},
     "output_type": "execute_result"
    }
   ],
   "source": [
    "from package.databases.models import Workspace\n",
    "\n",
    "\n",
    "def create_workspace(workspace: Workspace, session: Session = Depends(get_session)):\n",
    "    session.add(workspace)\n",
    "    session.commit()\n",
    "    session.refresh(workspace)\n",
    "    session.close()\n",
    "    return workspace\n",
    "\n",
    "workspace = Workspace(\n",
    "    workspace_name=\"test 1\",\n",
    "    owner_id=1\n",
    ")\n",
    "\n",
    "create_workspace(workspace)"
   ]
  },
  {
   "cell_type": "code",
   "execution_count": 25,
   "id": "7c9b6778",
   "metadata": {},
   "outputs": [
    {
     "data": {
      "text/plain": [
       "Workspace(workspace_name='test 2', owner_id=2, workspace_id=2, updated_dt=datetime.datetime(2025, 6, 21, 18, 0, 37, 939523), created_dt=datetime.datetime(2025, 6, 21, 18, 0, 37, 939523))"
      ]
     },
     "execution_count": 25,
     "metadata": {},
     "output_type": "execute_result"
    }
   ],
   "source": [
    "workspace = Workspace(\n",
    "    workspace_name=\"test 2\",\n",
    "    owner_id=2\n",
    ")\n",
    "\n",
    "workspace = create_workspace(workspace)\n",
    "workspace"
   ]
  },
  {
   "cell_type": "code",
   "execution_count": 26,
   "id": "066b5356",
   "metadata": {},
   "outputs": [
    {
     "data": {
      "text/plain": [
       "Workspace(workspace_name='test 2', owner_id=2, workspace_id=2, updated_dt=datetime.datetime(2025, 6, 21, 18, 0, 37, 939523), created_dt=datetime.datetime(2025, 6, 21, 18, 0, 37, 939523))"
      ]
     },
     "execution_count": 26,
     "metadata": {},
     "output_type": "execute_result"
    }
   ],
   "source": [
    "def read_workspace(workspace_id:int, session:Session=Depends(get_session)):\n",
    "    workspace = session.get(Workspace, workspace_id)\n",
    "    session.close()\n",
    "    return workspace\n",
    "\n",
    "def read_workspaces(session:Session=Depends(get_session)):\n",
    "    statement = select(Workspace)\n",
    "    results = session.exec(statement).all()\n",
    "    session.close()\n",
    "    return results\n",
    "\n",
    "read_workspace(workspace_id=2)"
   ]
  },
  {
   "cell_type": "code",
   "execution_count": 27,
   "id": "fc68396a",
   "metadata": {},
   "outputs": [
    {
     "data": {
      "text/plain": [
       "[Workspace(workspace_name='test 1', owner_id=1, workspace_id=1, updated_dt=datetime.datetime(2025, 6, 21, 18, 0, 37, 672053), created_dt=datetime.datetime(2025, 6, 21, 18, 0, 37, 672053)),\n",
       " Workspace(workspace_name='test 2', owner_id=2, workspace_id=2, updated_dt=datetime.datetime(2025, 6, 21, 18, 0, 37, 939523), created_dt=datetime.datetime(2025, 6, 21, 18, 0, 37, 939523))]"
      ]
     },
     "execution_count": 27,
     "metadata": {},
     "output_type": "execute_result"
    }
   ],
   "source": [
    "read_workspaces()"
   ]
  },
  {
   "cell_type": "markdown",
   "id": "fc15ce51",
   "metadata": {},
   "source": [
    "## Delete"
   ]
  },
  {
   "cell_type": "code",
   "execution_count": 28,
   "id": "f6b53861",
   "metadata": {},
   "outputs": [
    {
     "data": {
      "text/plain": [
       "True"
      ]
     },
     "execution_count": 28,
     "metadata": {},
     "output_type": "execute_result"
    }
   ],
   "source": [
    "def delete_user(user_id: int, session: Session = Depends(get_session)):\n",
    "    user = session.get(User, user_id)\n",
    "    if user:\n",
    "        session.delete(user)\n",
    "        session.commit()\n",
    "        session.close()\n",
    "        return True\n",
    "    return False\n",
    "\n",
    "delete_user(user_id=2)\n"
   ]
  },
  {
   "cell_type": "code",
   "execution_count": 29,
   "id": "7e38c6fc",
   "metadata": {},
   "outputs": [
    {
     "data": {
      "text/plain": [
       "[User(password='test', email='bankbank@bank.com', created_dt=datetime.datetime(2025, 6, 21, 18, 0, 36, 58347), username='bank', user_id=1, updated_dt=datetime.datetime(2025, 6, 21, 18, 0, 37, 474388))]"
      ]
     },
     "execution_count": 29,
     "metadata": {},
     "output_type": "execute_result"
    }
   ],
   "source": [
    "read_users()"
   ]
  },
  {
   "cell_type": "code",
   "execution_count": 30,
   "id": "b2edc283",
   "metadata": {},
   "outputs": [
    {
     "data": {
      "text/plain": [
       "[Workspace(workspace_name='test 1', owner_id=1, workspace_id=1, updated_dt=datetime.datetime(2025, 6, 21, 18, 0, 37, 672053), created_dt=datetime.datetime(2025, 6, 21, 18, 0, 37, 672053))]"
      ]
     },
     "execution_count": 30,
     "metadata": {},
     "output_type": "execute_result"
    }
   ],
   "source": [
    "read_workspaces()"
   ]
  },
  {
   "cell_type": "markdown",
   "id": "14dd098e",
   "metadata": {},
   "source": [
    "# Drop the selected table"
   ]
  },
  {
   "cell_type": "code",
   "execution_count": 12,
   "id": "22e60438",
   "metadata": {},
   "outputs": [
    {
     "name": "stdout",
     "output_type": "stream",
     "text": [
      "✅ Dropped 'user' table.\n"
     ]
    }
   ],
   "source": [
    "from package.databases.drop import drop_table\n",
    "\n",
    "drop_table(User)"
   ]
  },
  {
   "cell_type": "markdown",
   "id": "d12cc691",
   "metadata": {},
   "source": [
    "# Drop all tables"
   ]
  },
  {
   "cell_type": "code",
   "execution_count": 16,
   "id": "7f1d50fe",
   "metadata": {},
   "outputs": [
    {
     "name": "stdout",
     "output_type": "stream",
     "text": [
      "✅ All tables dropped.\n"
     ]
    }
   ],
   "source": [
    "from package.databases.drop import drop_all_tables\n",
    "\n",
    "drop_all_tables()"
   ]
  },
  {
   "cell_type": "code",
   "execution_count": null,
   "id": "4d566082",
   "metadata": {},
   "outputs": [],
   "source": []
  }
 ],
 "metadata": {
  "kernelspec": {
   "display_name": ".venv",
   "language": "python",
   "name": "python3"
  },
  "language_info": {
   "codemirror_mode": {
    "name": "ipython",
    "version": 3
   },
   "file_extension": ".py",
   "mimetype": "text/x-python",
   "name": "python",
   "nbconvert_exporter": "python",
   "pygments_lexer": "ipython3",
   "version": "3.11.11"
  }
 },
 "nbformat": 4,
 "nbformat_minor": 5
}
